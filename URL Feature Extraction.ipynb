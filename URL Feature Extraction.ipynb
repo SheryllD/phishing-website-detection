{
  "cells": [
    {
      "cell_type": "markdown",
      "metadata": {
        "colab_type": "text",
        "id": "x8WZXl8z-1VC"
      },
      "source": [
        "# **Phishing Website Detection Feature Extraction**\n",
        "\n",
        "*Final project of AI & Cybersecurity Course*"
      ]
    },
    {
      "cell_type": "markdown",
      "metadata": {
        "colab_type": "text",
        "id": "SUwXaC2JiIMF"
      },
      "source": [
        "# **1. Objective:**\n",
        "A phishing website is a common social engineering method that mimics trustful uniform resource locators (URLs) and webpages. The objective of this notebook is to collect data & extract the selctive features form the URLs.\n",
        "\n",
        "*This project is worked on Google Collaboratory.*\n",
        "\n"
      ]
    },
    {
      "cell_type": "markdown",
      "metadata": {
        "colab_type": "text",
        "id": "pkIGg-nGiqEO"
      },
      "source": [
        "# **2. Collecting the Data:**\n",
        "For this project, we need a bunch of urls of type legitimate (0) and phishing (1). \n",
        "\n",
        "The collection of phishing urls is rather easy because of the opensource service called PhishTank. This service provide a set of phishing URLs in multiple formats like csv, json etc. that gets updated hourly. To download the data: https://www.phishtank.com/developer_info.php\n",
        "\n",
        "For the legitimate URLs, I found a source that has a collection of benign, spam, phishing, malware & defacement URLs. The source of the dataset is University of New Brunswick, https://www.unb.ca/cic/datasets/url-2016.html. The number of legitimate URLs in this collection are 35,300. The URL collection is downloaded & from that, *'Benign_list_big_final.csv'* is the file of our interest. This file is then uploaded to the Colab for the feature extraction. \n"
      ]
    },
    {
      "cell_type": "markdown",
      "metadata": {
        "colab_type": "text",
        "id": "SRyCQJnSmACu"
      },
      "source": [
        "## **2.1. Phishing URLs:**\n",
        "\n",
        "The phishing URLs are collected from the PhishTank from the link provided. The csv file of phishing URLs is obtained by using wget command. After downlaoding the dataset, it is loaded into a DataFrame."
      ]
    },
    {
      "cell_type": "code",
      "execution_count": 131,
      "metadata": {
        "colab": {},
        "colab_type": "code",
        "id": "PH13wfswmyDv"
      },
      "outputs": [],
      "source": [
        "#importing required packages for this module\n",
        "import pandas as pd"
      ]
    },
    {
      "cell_type": "code",
      "execution_count": 169,
      "metadata": {},
      "outputs": [
        {
          "name": "stderr",
          "output_type": "stream",
          "text": [
            "3437.24s - pydevd: Sending message related to process being replaced timed-out after 5 seconds\n"
          ]
        },
        {
          "name": "stdout",
          "output_type": "stream",
          "text": [
            "Collecting wget\n",
            "  Downloading wget-3.2.zip (10 kB)\n",
            "  Preparing metadata (setup.py) ... \u001b[?25ldone\n",
            "\u001b[?25hBuilding wheels for collected packages: wget\n",
            "  Building wheel for wget (setup.py) ... \u001b[?25ldone\n",
            "\u001b[?25h  Created wheel for wget: filename=wget-3.2-py3-none-any.whl size=9656 sha256=6d6d176eb3a4b13c04a00f3ccb68700b4d93fe81020eec456d4cc10fd391a3d7\n",
            "  Stored in directory: /Users/sheryll/Library/Caches/pip/wheels/01/46/3b/e29ffbe4ebe614ff224bad40fc6a5773a67a163251585a13a9\n",
            "Successfully built wget\n",
            "Installing collected packages: wget\n",
            "Successfully installed wget-3.2\n"
          ]
        }
      ],
      "source": [
        "!pip install wget"
      ]
    },
    {
      "cell_type": "code",
      "execution_count": 170,
      "metadata": {
        "colab": {
          "base_uri": "https://localhost:8080/",
          "height": 392
        },
        "colab_type": "code",
        "id": "FF5vM84YriWc",
        "outputId": "34b29509-57f2-48c9-a862-db8390b6af1c"
      },
      "outputs": [
        {
          "name": "stderr",
          "output_type": "stream",
          "text": [
            "3459.79s - pydevd: Sending message related to process being replaced timed-out after 5 seconds\n"
          ]
        },
        {
          "name": "stdout",
          "output_type": "stream",
          "text": [
            "zsh:1: command not found: wget\n"
          ]
        }
      ],
      "source": [
        "#Downloading the phishing URLs file\n",
        "!wget http://data.phishtank.com/data/online-valid.csv"
      ]
    },
    {
      "cell_type": "markdown",
      "metadata": {
        "colab_type": "text",
        "id": "paesHH9rnX8r"
      },
      "source": [
        "The above command downlaods the file of phishing URLs, *online-valid.csv* and stores in the */content/* folder. "
      ]
    },
    {
      "cell_type": "code",
      "execution_count": 171,
      "metadata": {
        "colab": {
          "base_uri": "https://localhost:8080/",
          "height": 305
        },
        "colab_type": "code",
        "id": "GaGVL9gYKXma",
        "outputId": "fad0a947-4996-44bf-d46f-89abc4306e62"
      },
      "outputs": [
        {
          "data": {
            "application/vnd.microsoft.datawrangler.viewer.v0+json": {
              "columns": [
                {
                  "name": "index",
                  "rawType": "int64",
                  "type": "integer"
                },
                {
                  "name": "phish_id",
                  "rawType": "int64",
                  "type": "integer"
                },
                {
                  "name": "url",
                  "rawType": "object",
                  "type": "string"
                },
                {
                  "name": "phish_detail_url",
                  "rawType": "object",
                  "type": "string"
                },
                {
                  "name": "submission_time",
                  "rawType": "object",
                  "type": "string"
                },
                {
                  "name": "verified",
                  "rawType": "object",
                  "type": "string"
                },
                {
                  "name": "verification_time",
                  "rawType": "object",
                  "type": "string"
                },
                {
                  "name": "online",
                  "rawType": "object",
                  "type": "string"
                },
                {
                  "name": "target",
                  "rawType": "object",
                  "type": "string"
                }
              ],
              "ref": "48a65418-aff3-4df8-8bfc-adaa28cb0751",
              "rows": [
                [
                  "0",
                  "6557033",
                  "http://u1047531.cp.regruhosting.ru/acces-inges-20200104-t452/3facd",
                  "http://www.phishtank.com/phish_detail.php?phish_id=6557033",
                  "2020-05-09T22:01:43+00:00",
                  "yes",
                  "2020-05-09T22:03:07+00:00",
                  "yes",
                  "Other"
                ],
                [
                  "1",
                  "6557032",
                  "http://hoysalacreations.com/wp-content/plugins/wp-hide-security-enhancer/include/20/home",
                  "http://www.phishtank.com/phish_detail.php?phish_id=6557032",
                  "2020-05-09T22:01:37+00:00",
                  "yes",
                  "2020-05-09T22:03:07+00:00",
                  "yes",
                  "Other"
                ],
                [
                  "2",
                  "6557011",
                  "http://www.accsystemprblemhelp.site/checkpoint.htm",
                  "http://www.phishtank.com/phish_detail.php?phish_id=6557011",
                  "2020-05-09T21:54:31+00:00",
                  "yes",
                  "2020-05-09T21:55:38+00:00",
                  "yes",
                  "Facebook"
                ],
                [
                  "3",
                  "6557010",
                  "http://www.accsystemprblemhelp.site/login_attempt=1&amp;lwv=110.htm",
                  "http://www.phishtank.com/phish_detail.php?phish_id=6557010",
                  "2020-05-09T21:53:48+00:00",
                  "yes",
                  "2020-05-09T21:54:34+00:00",
                  "yes",
                  "Facebook"
                ],
                [
                  "4",
                  "6557009",
                  "https://firebasestorage.googleapis.com/v0/b/soav-954b2.appspot.com/o/index.html?alt=media&amp;token=86e7f3e3-fa2c-40fe-a160-fb6e0ac6a956#",
                  "http://www.phishtank.com/phish_detail.php?phish_id=6557009",
                  "2020-05-09T21:49:27+00:00",
                  "yes",
                  "2020-05-09T21:51:24+00:00",
                  "yes",
                  "Microsoft"
                ]
              ],
              "shape": {
                "columns": 8,
                "rows": 5
              }
            },
            "text/html": [
              "<div>\n",
              "<style scoped>\n",
              "    .dataframe tbody tr th:only-of-type {\n",
              "        vertical-align: middle;\n",
              "    }\n",
              "\n",
              "    .dataframe tbody tr th {\n",
              "        vertical-align: top;\n",
              "    }\n",
              "\n",
              "    .dataframe thead th {\n",
              "        text-align: right;\n",
              "    }\n",
              "</style>\n",
              "<table border=\"1\" class=\"dataframe\">\n",
              "  <thead>\n",
              "    <tr style=\"text-align: right;\">\n",
              "      <th></th>\n",
              "      <th>phish_id</th>\n",
              "      <th>url</th>\n",
              "      <th>phish_detail_url</th>\n",
              "      <th>submission_time</th>\n",
              "      <th>verified</th>\n",
              "      <th>verification_time</th>\n",
              "      <th>online</th>\n",
              "      <th>target</th>\n",
              "    </tr>\n",
              "  </thead>\n",
              "  <tbody>\n",
              "    <tr>\n",
              "      <th>0</th>\n",
              "      <td>6557033</td>\n",
              "      <td>http://u1047531.cp.regruhosting.ru/acces-inges...</td>\n",
              "      <td>http://www.phishtank.com/phish_detail.php?phis...</td>\n",
              "      <td>2020-05-09T22:01:43+00:00</td>\n",
              "      <td>yes</td>\n",
              "      <td>2020-05-09T22:03:07+00:00</td>\n",
              "      <td>yes</td>\n",
              "      <td>Other</td>\n",
              "    </tr>\n",
              "    <tr>\n",
              "      <th>1</th>\n",
              "      <td>6557032</td>\n",
              "      <td>http://hoysalacreations.com/wp-content/plugins...</td>\n",
              "      <td>http://www.phishtank.com/phish_detail.php?phis...</td>\n",
              "      <td>2020-05-09T22:01:37+00:00</td>\n",
              "      <td>yes</td>\n",
              "      <td>2020-05-09T22:03:07+00:00</td>\n",
              "      <td>yes</td>\n",
              "      <td>Other</td>\n",
              "    </tr>\n",
              "    <tr>\n",
              "      <th>2</th>\n",
              "      <td>6557011</td>\n",
              "      <td>http://www.accsystemprblemhelp.site/checkpoint...</td>\n",
              "      <td>http://www.phishtank.com/phish_detail.php?phis...</td>\n",
              "      <td>2020-05-09T21:54:31+00:00</td>\n",
              "      <td>yes</td>\n",
              "      <td>2020-05-09T21:55:38+00:00</td>\n",
              "      <td>yes</td>\n",
              "      <td>Facebook</td>\n",
              "    </tr>\n",
              "    <tr>\n",
              "      <th>3</th>\n",
              "      <td>6557010</td>\n",
              "      <td>http://www.accsystemprblemhelp.site/login_atte...</td>\n",
              "      <td>http://www.phishtank.com/phish_detail.php?phis...</td>\n",
              "      <td>2020-05-09T21:53:48+00:00</td>\n",
              "      <td>yes</td>\n",
              "      <td>2020-05-09T21:54:34+00:00</td>\n",
              "      <td>yes</td>\n",
              "      <td>Facebook</td>\n",
              "    </tr>\n",
              "    <tr>\n",
              "      <th>4</th>\n",
              "      <td>6557009</td>\n",
              "      <td>https://firebasestorage.googleapis.com/v0/b/so...</td>\n",
              "      <td>http://www.phishtank.com/phish_detail.php?phis...</td>\n",
              "      <td>2020-05-09T21:49:27+00:00</td>\n",
              "      <td>yes</td>\n",
              "      <td>2020-05-09T21:51:24+00:00</td>\n",
              "      <td>yes</td>\n",
              "      <td>Microsoft</td>\n",
              "    </tr>\n",
              "  </tbody>\n",
              "</table>\n",
              "</div>"
            ],
            "text/plain": [
              "   phish_id                                                url  \\\n",
              "0   6557033  http://u1047531.cp.regruhosting.ru/acces-inges...   \n",
              "1   6557032  http://hoysalacreations.com/wp-content/plugins...   \n",
              "2   6557011  http://www.accsystemprblemhelp.site/checkpoint...   \n",
              "3   6557010  http://www.accsystemprblemhelp.site/login_atte...   \n",
              "4   6557009  https://firebasestorage.googleapis.com/v0/b/so...   \n",
              "\n",
              "                                    phish_detail_url  \\\n",
              "0  http://www.phishtank.com/phish_detail.php?phis...   \n",
              "1  http://www.phishtank.com/phish_detail.php?phis...   \n",
              "2  http://www.phishtank.com/phish_detail.php?phis...   \n",
              "3  http://www.phishtank.com/phish_detail.php?phis...   \n",
              "4  http://www.phishtank.com/phish_detail.php?phis...   \n",
              "\n",
              "             submission_time verified          verification_time online  \\\n",
              "0  2020-05-09T22:01:43+00:00      yes  2020-05-09T22:03:07+00:00    yes   \n",
              "1  2020-05-09T22:01:37+00:00      yes  2020-05-09T22:03:07+00:00    yes   \n",
              "2  2020-05-09T21:54:31+00:00      yes  2020-05-09T21:55:38+00:00    yes   \n",
              "3  2020-05-09T21:53:48+00:00      yes  2020-05-09T21:54:34+00:00    yes   \n",
              "4  2020-05-09T21:49:27+00:00      yes  2020-05-09T21:51:24+00:00    yes   \n",
              "\n",
              "      target  \n",
              "0      Other  \n",
              "1      Other  \n",
              "2   Facebook  \n",
              "3   Facebook  \n",
              "4  Microsoft  "
            ]
          },
          "execution_count": 171,
          "metadata": {},
          "output_type": "execute_result"
        }
      ],
      "source": [
        "#loading the phishing URLs data to dataframe\n",
        "data0 = pd.read_csv(\"DataFiles/2.online-valid.csv\")\n",
        "data0.head()"
      ]
    },
    {
      "cell_type": "code",
      "execution_count": 134,
      "metadata": {
        "colab": {
          "base_uri": "https://localhost:8080/",
          "height": 35
        },
        "colab_type": "code",
        "id": "mAZAvSe2n1oT",
        "outputId": "da2fbbb6-871f-4070-df86-cc9a135ac37a"
      },
      "outputs": [
        {
          "data": {
            "text/plain": [
              "(14858, 8)"
            ]
          },
          "execution_count": 134,
          "metadata": {},
          "output_type": "execute_result"
        }
      ],
      "source": [
        "data0.shape"
      ]
    },
    {
      "cell_type": "markdown",
      "metadata": {
        "colab_type": "text",
        "id": "fBFvH8h0oFkO"
      },
      "source": [
        "So, the data has thousands of phishing URLs. But the problem here is, this data gets updated hourly. Without getting into the risk of data imbalance, I am considering a margin value of 10,000 phishing URLs & 5000 legitimate URLs. \n",
        "\n",
        "Thereby, picking up 5000 samples from the above dataframe randomly."
      ]
    },
    {
      "cell_type": "code",
      "execution_count": 135,
      "metadata": {
        "colab": {
          "base_uri": "https://localhost:8080/",
          "height": 305
        },
        "colab_type": "code",
        "id": "9CTCI_EgERPM",
        "outputId": "cb74e74c-5591-4523-e077-bbf13ef89245"
      },
      "outputs": [
        {
          "data": {
            "application/vnd.microsoft.datawrangler.viewer.v0+json": {
              "columns": [
                {
                  "name": "index",
                  "rawType": "int64",
                  "type": "integer"
                },
                {
                  "name": "phish_id",
                  "rawType": "int64",
                  "type": "integer"
                },
                {
                  "name": "url",
                  "rawType": "object",
                  "type": "string"
                },
                {
                  "name": "phish_detail_url",
                  "rawType": "object",
                  "type": "string"
                },
                {
                  "name": "submission_time",
                  "rawType": "object",
                  "type": "string"
                },
                {
                  "name": "verified",
                  "rawType": "object",
                  "type": "string"
                },
                {
                  "name": "verification_time",
                  "rawType": "object",
                  "type": "string"
                },
                {
                  "name": "online",
                  "rawType": "object",
                  "type": "string"
                },
                {
                  "name": "target",
                  "rawType": "object",
                  "type": "string"
                }
              ],
              "ref": "9152639b-f94b-4908-acf6-a10f402870e6",
              "rows": [
                [
                  "0",
                  "6514946",
                  "http://confirmprofileaccount.com/",
                  "http://www.phishtank.com/phish_detail.php?phish_id=6514946",
                  "2020-04-19T11:06:55+00:00",
                  "yes",
                  "2020-04-19T13:42:41+00:00",
                  "yes",
                  "Other"
                ],
                [
                  "1",
                  "4927651",
                  "http://www.marreme.com/MasterAdmin/04mop.html",
                  "http://www.phishtank.com/phish_detail.php?phish_id=4927651",
                  "2017-04-04T19:35:54+00:00",
                  "yes",
                  "2017-05-03T23:00:42+00:00",
                  "yes",
                  "Other"
                ],
                [
                  "2",
                  "5116976",
                  "http://modsecpaststudents.com/review/",
                  "http://www.phishtank.com/phish_detail.php?phish_id=5116976",
                  "2017-07-25T18:48:30+00:00",
                  "yes",
                  "2017-07-28T16:01:36+00:00",
                  "yes",
                  "Other"
                ],
                [
                  "3",
                  "6356131",
                  "https://docs.google.com/forms/d/e/1FAIpQLScL6L9TaPWaz0nJqHOBCupc-iHfQPWYVeKqZdHklbfgiVTy_Q/viewform",
                  "http://www.phishtank.com/phish_detail.php?phish_id=6356131",
                  "2020-01-13T20:13:37+00:00",
                  "yes",
                  "2020-01-17T01:55:38+00:00",
                  "yes",
                  "Other"
                ],
                [
                  "4",
                  "6535965",
                  "https://oportunidadedasemana.com/americanas//?samsung-un50nu7100-tv-led-50-smart-tv-4k-uhd-3hdmi-2usb-preto-nas-americanas&amp;skullid=195433942&amp;cart=MTk1NDMzOTQy",
                  "http://www.phishtank.com/phish_detail.php?phish_id=6535965",
                  "2020-04-29T00:01:03+00:00",
                  "yes",
                  "2020-05-01T10:55:35+00:00",
                  "yes",
                  "Other"
                ]
              ],
              "shape": {
                "columns": 8,
                "rows": 5
              }
            },
            "text/html": [
              "<div>\n",
              "<style scoped>\n",
              "    .dataframe tbody tr th:only-of-type {\n",
              "        vertical-align: middle;\n",
              "    }\n",
              "\n",
              "    .dataframe tbody tr th {\n",
              "        vertical-align: top;\n",
              "    }\n",
              "\n",
              "    .dataframe thead th {\n",
              "        text-align: right;\n",
              "    }\n",
              "</style>\n",
              "<table border=\"1\" class=\"dataframe\">\n",
              "  <thead>\n",
              "    <tr style=\"text-align: right;\">\n",
              "      <th></th>\n",
              "      <th>phish_id</th>\n",
              "      <th>url</th>\n",
              "      <th>phish_detail_url</th>\n",
              "      <th>submission_time</th>\n",
              "      <th>verified</th>\n",
              "      <th>verification_time</th>\n",
              "      <th>online</th>\n",
              "      <th>target</th>\n",
              "    </tr>\n",
              "  </thead>\n",
              "  <tbody>\n",
              "    <tr>\n",
              "      <th>0</th>\n",
              "      <td>6514946</td>\n",
              "      <td>http://confirmprofileaccount.com/</td>\n",
              "      <td>http://www.phishtank.com/phish_detail.php?phis...</td>\n",
              "      <td>2020-04-19T11:06:55+00:00</td>\n",
              "      <td>yes</td>\n",
              "      <td>2020-04-19T13:42:41+00:00</td>\n",
              "      <td>yes</td>\n",
              "      <td>Other</td>\n",
              "    </tr>\n",
              "    <tr>\n",
              "      <th>1</th>\n",
              "      <td>4927651</td>\n",
              "      <td>http://www.marreme.com/MasterAdmin/04mop.html</td>\n",
              "      <td>http://www.phishtank.com/phish_detail.php?phis...</td>\n",
              "      <td>2017-04-04T19:35:54+00:00</td>\n",
              "      <td>yes</td>\n",
              "      <td>2017-05-03T23:00:42+00:00</td>\n",
              "      <td>yes</td>\n",
              "      <td>Other</td>\n",
              "    </tr>\n",
              "    <tr>\n",
              "      <th>2</th>\n",
              "      <td>5116976</td>\n",
              "      <td>http://modsecpaststudents.com/review/</td>\n",
              "      <td>http://www.phishtank.com/phish_detail.php?phis...</td>\n",
              "      <td>2017-07-25T18:48:30+00:00</td>\n",
              "      <td>yes</td>\n",
              "      <td>2017-07-28T16:01:36+00:00</td>\n",
              "      <td>yes</td>\n",
              "      <td>Other</td>\n",
              "    </tr>\n",
              "    <tr>\n",
              "      <th>3</th>\n",
              "      <td>6356131</td>\n",
              "      <td>https://docs.google.com/forms/d/e/1FAIpQLScL6L...</td>\n",
              "      <td>http://www.phishtank.com/phish_detail.php?phis...</td>\n",
              "      <td>2020-01-13T20:13:37+00:00</td>\n",
              "      <td>yes</td>\n",
              "      <td>2020-01-17T01:55:38+00:00</td>\n",
              "      <td>yes</td>\n",
              "      <td>Other</td>\n",
              "    </tr>\n",
              "    <tr>\n",
              "      <th>4</th>\n",
              "      <td>6535965</td>\n",
              "      <td>https://oportunidadedasemana.com/americanas//?...</td>\n",
              "      <td>http://www.phishtank.com/phish_detail.php?phis...</td>\n",
              "      <td>2020-04-29T00:01:03+00:00</td>\n",
              "      <td>yes</td>\n",
              "      <td>2020-05-01T10:55:35+00:00</td>\n",
              "      <td>yes</td>\n",
              "      <td>Other</td>\n",
              "    </tr>\n",
              "  </tbody>\n",
              "</table>\n",
              "</div>"
            ],
            "text/plain": [
              "   phish_id                                                url  \\\n",
              "0   6514946                  http://confirmprofileaccount.com/   \n",
              "1   4927651      http://www.marreme.com/MasterAdmin/04mop.html   \n",
              "2   5116976              http://modsecpaststudents.com/review/   \n",
              "3   6356131  https://docs.google.com/forms/d/e/1FAIpQLScL6L...   \n",
              "4   6535965  https://oportunidadedasemana.com/americanas//?...   \n",
              "\n",
              "                                    phish_detail_url  \\\n",
              "0  http://www.phishtank.com/phish_detail.php?phis...   \n",
              "1  http://www.phishtank.com/phish_detail.php?phis...   \n",
              "2  http://www.phishtank.com/phish_detail.php?phis...   \n",
              "3  http://www.phishtank.com/phish_detail.php?phis...   \n",
              "4  http://www.phishtank.com/phish_detail.php?phis...   \n",
              "\n",
              "             submission_time verified          verification_time online target  \n",
              "0  2020-04-19T11:06:55+00:00      yes  2020-04-19T13:42:41+00:00    yes  Other  \n",
              "1  2017-04-04T19:35:54+00:00      yes  2017-05-03T23:00:42+00:00    yes  Other  \n",
              "2  2017-07-25T18:48:30+00:00      yes  2017-07-28T16:01:36+00:00    yes  Other  \n",
              "3  2020-01-13T20:13:37+00:00      yes  2020-01-17T01:55:38+00:00    yes  Other  \n",
              "4  2020-04-29T00:01:03+00:00      yes  2020-05-01T10:55:35+00:00    yes  Other  "
            ]
          },
          "execution_count": 135,
          "metadata": {},
          "output_type": "execute_result"
        }
      ],
      "source": [
        "#Collecting 5,000 Phishing URLs randomly\n",
        "phishurl = data0.sample(n = 5000, random_state = 12).copy()\n",
        "phishurl = phishurl.reset_index(drop=True)\n",
        "phishurl.head()"
      ]
    },
    {
      "cell_type": "code",
      "execution_count": 136,
      "metadata": {
        "colab": {
          "base_uri": "https://localhost:8080/",
          "height": 35
        },
        "colab_type": "code",
        "id": "-FOfv0bspc8N",
        "outputId": "48e76e11-37d7-4ba1-e04a-c2fa661e9219"
      },
      "outputs": [
        {
          "data": {
            "text/plain": [
              "(5000, 8)"
            ]
          },
          "execution_count": 136,
          "metadata": {},
          "output_type": "execute_result"
        }
      ],
      "source": [
        "phishurl.shape"
      ]
    },
    {
      "cell_type": "markdown",
      "metadata": {
        "colab_type": "text",
        "id": "Sb4afcd5pges"
      },
      "source": [
        "As of now we collected 5000 phishing URLs. Now, we need to collect the legitimate URLs.\n",
        "\n",
        "## **2.2. Legitimate URLs:**\n",
        "\n",
        "From the uploaded *Benign_list_big_final.csv* file, the URLs are loaded into a dataframe."
      ]
    },
    {
      "cell_type": "code",
      "execution_count": 137,
      "metadata": {
        "colab": {
          "base_uri": "https://localhost:8080/",
          "height": 200
        },
        "colab_type": "code",
        "id": "0wkw4wGAsIbT",
        "outputId": "4395a2bd-dd8b-49ea-fb1e-36cf0b67e75f"
      },
      "outputs": [
        {
          "data": {
            "application/vnd.microsoft.datawrangler.viewer.v0+json": {
              "columns": [
                {
                  "name": "index",
                  "rawType": "int64",
                  "type": "integer"
                },
                {
                  "name": "URLs",
                  "rawType": "object",
                  "type": "string"
                }
              ],
              "ref": "091e052e-464f-49b3-932b-40a813e45c96",
              "rows": [
                [
                  "0",
                  "http://1337x.to/torrent/1110018/Blackhat-2015-RUSSIAN-720p-WEB-DL-DD5-1-H264-RUFGT/"
                ],
                [
                  "1",
                  "http://1337x.to/torrent/1122940/Blackhat-2015-x264-1080p-WEB-DL-eng-nl-subs-sharky/"
                ],
                [
                  "2",
                  "http://1337x.to/torrent/1124395/Fast-and-Furious-7-2015-HD-TS-XVID-AC3-HQ-Hive-CM8/"
                ],
                [
                  "3",
                  "http://1337x.to/torrent/1145504/Avengers-Age-of-Ultron-2015-CAM-New-Audio-x264-CPG/"
                ],
                [
                  "4",
                  "http://1337x.to/torrent/1160078/Avengers-age-of-Ultron-2015-HQ-CAM-H264-AC3-MURD3R/"
                ]
              ],
              "shape": {
                "columns": 1,
                "rows": 5
              }
            },
            "text/html": [
              "<div>\n",
              "<style scoped>\n",
              "    .dataframe tbody tr th:only-of-type {\n",
              "        vertical-align: middle;\n",
              "    }\n",
              "\n",
              "    .dataframe tbody tr th {\n",
              "        vertical-align: top;\n",
              "    }\n",
              "\n",
              "    .dataframe thead th {\n",
              "        text-align: right;\n",
              "    }\n",
              "</style>\n",
              "<table border=\"1\" class=\"dataframe\">\n",
              "  <thead>\n",
              "    <tr style=\"text-align: right;\">\n",
              "      <th></th>\n",
              "      <th>URLs</th>\n",
              "    </tr>\n",
              "  </thead>\n",
              "  <tbody>\n",
              "    <tr>\n",
              "      <th>0</th>\n",
              "      <td>http://1337x.to/torrent/1110018/Blackhat-2015-...</td>\n",
              "    </tr>\n",
              "    <tr>\n",
              "      <th>1</th>\n",
              "      <td>http://1337x.to/torrent/1122940/Blackhat-2015-...</td>\n",
              "    </tr>\n",
              "    <tr>\n",
              "      <th>2</th>\n",
              "      <td>http://1337x.to/torrent/1124395/Fast-and-Furio...</td>\n",
              "    </tr>\n",
              "    <tr>\n",
              "      <th>3</th>\n",
              "      <td>http://1337x.to/torrent/1145504/Avengers-Age-o...</td>\n",
              "    </tr>\n",
              "    <tr>\n",
              "      <th>4</th>\n",
              "      <td>http://1337x.to/torrent/1160078/Avengers-age-o...</td>\n",
              "    </tr>\n",
              "  </tbody>\n",
              "</table>\n",
              "</div>"
            ],
            "text/plain": [
              "                                                URLs\n",
              "0  http://1337x.to/torrent/1110018/Blackhat-2015-...\n",
              "1  http://1337x.to/torrent/1122940/Blackhat-2015-...\n",
              "2  http://1337x.to/torrent/1124395/Fast-and-Furio...\n",
              "3  http://1337x.to/torrent/1145504/Avengers-Age-o...\n",
              "4  http://1337x.to/torrent/1160078/Avengers-age-o..."
            ]
          },
          "execution_count": 137,
          "metadata": {},
          "output_type": "execute_result"
        }
      ],
      "source": [
        "#Loading legitimate files \n",
        "data1 = pd.read_csv(\"DataFiles/1.Benign_list_big_final.csv\")\n",
        "data1.columns = ['URLs']\n",
        "data1.head()"
      ]
    },
    {
      "cell_type": "markdown",
      "metadata": {
        "colab_type": "text",
        "id": "MdvE4YfWtCJr"
      },
      "source": [
        "As stated above, 5000 legitimate URLs are randomaly picked from the above dataframe."
      ]
    },
    {
      "cell_type": "code",
      "execution_count": 138,
      "metadata": {
        "colab": {
          "base_uri": "https://localhost:8080/",
          "height": 200
        },
        "colab_type": "code",
        "id": "EQRtf9Ybs5sv",
        "outputId": "227e262b-1483-4549-8bdf-49da2f321b06"
      },
      "outputs": [
        {
          "data": {
            "application/vnd.microsoft.datawrangler.viewer.v0+json": {
              "columns": [
                {
                  "name": "index",
                  "rawType": "int64",
                  "type": "integer"
                },
                {
                  "name": "URLs",
                  "rawType": "object",
                  "type": "string"
                }
              ],
              "ref": "9ed86bf4-5973-4c53-b049-e91a839bda7c",
              "rows": [
                [
                  "0",
                  "http://graphicriver.net/search?date=this-month&length_max=&length_min=&price_max=&price_min=&rating_min=&sales=&sort=sales&term=&view=list"
                ],
                [
                  "1",
                  "http://ecnavi.jp/redirect/?url=http://www.cross-a.net/x.php?id=1845_3212_22061_26563&m=1004&pid=%user_id%"
                ],
                [
                  "2",
                  "https://hubpages.com/signin?explain=follow+Hubs&url=%2Fhub%2FComfort-Theories-of-Religion"
                ],
                [
                  "3",
                  "http://extratorrent.cc/torrent/4190536/AOMEI+Backupper+Technician+%2B+Server+Edition+2.8.0+%2B+Patch+%2B+Key+%2B+100%25+Working.html"
                ],
                [
                  "4",
                  "http://icicibank.com/Personal-Banking/offers/offer-detail.page?id=offer-ezeego-domestic-airtravel-20141407112611060"
                ]
              ],
              "shape": {
                "columns": 1,
                "rows": 5
              }
            },
            "text/html": [
              "<div>\n",
              "<style scoped>\n",
              "    .dataframe tbody tr th:only-of-type {\n",
              "        vertical-align: middle;\n",
              "    }\n",
              "\n",
              "    .dataframe tbody tr th {\n",
              "        vertical-align: top;\n",
              "    }\n",
              "\n",
              "    .dataframe thead th {\n",
              "        text-align: right;\n",
              "    }\n",
              "</style>\n",
              "<table border=\"1\" class=\"dataframe\">\n",
              "  <thead>\n",
              "    <tr style=\"text-align: right;\">\n",
              "      <th></th>\n",
              "      <th>URLs</th>\n",
              "    </tr>\n",
              "  </thead>\n",
              "  <tbody>\n",
              "    <tr>\n",
              "      <th>0</th>\n",
              "      <td>http://graphicriver.net/search?date=this-month...</td>\n",
              "    </tr>\n",
              "    <tr>\n",
              "      <th>1</th>\n",
              "      <td>http://ecnavi.jp/redirect/?url=http://www.cros...</td>\n",
              "    </tr>\n",
              "    <tr>\n",
              "      <th>2</th>\n",
              "      <td>https://hubpages.com/signin?explain=follow+Hub...</td>\n",
              "    </tr>\n",
              "    <tr>\n",
              "      <th>3</th>\n",
              "      <td>http://extratorrent.cc/torrent/4190536/AOMEI+B...</td>\n",
              "    </tr>\n",
              "    <tr>\n",
              "      <th>4</th>\n",
              "      <td>http://icicibank.com/Personal-Banking/offers/o...</td>\n",
              "    </tr>\n",
              "  </tbody>\n",
              "</table>\n",
              "</div>"
            ],
            "text/plain": [
              "                                                URLs\n",
              "0  http://graphicriver.net/search?date=this-month...\n",
              "1  http://ecnavi.jp/redirect/?url=http://www.cros...\n",
              "2  https://hubpages.com/signin?explain=follow+Hub...\n",
              "3  http://extratorrent.cc/torrent/4190536/AOMEI+B...\n",
              "4  http://icicibank.com/Personal-Banking/offers/o..."
            ]
          },
          "execution_count": 138,
          "metadata": {},
          "output_type": "execute_result"
        }
      ],
      "source": [
        "#Collecting 5,000 Legitimate URLs randomly\n",
        "legiurl = data1.sample(n = 200, random_state = 12).copy() # n = 5000\n",
        "legiurl = legiurl.reset_index(drop=True)\n",
        "legiurl.head()"
      ]
    },
    {
      "cell_type": "code",
      "execution_count": 139,
      "metadata": {
        "colab": {
          "base_uri": "https://localhost:8080/",
          "height": 35
        },
        "colab_type": "code",
        "id": "QrpSRXzDuKwW",
        "outputId": "8b8e5220-be59-4893-9dd5-3ffc381d2b1d"
      },
      "outputs": [
        {
          "data": {
            "text/plain": [
              "(200, 1)"
            ]
          },
          "execution_count": 139,
          "metadata": {},
          "output_type": "execute_result"
        }
      ],
      "source": [
        "legiurl.shape"
      ]
    },
    {
      "cell_type": "markdown",
      "metadata": {
        "colab_type": "text",
        "id": "xbzZbsWIEV6J"
      },
      "source": [
        "# **3. Feature Extraction:**\n",
        "\n",
        "In this step, features are extracted from the URLs dataset.\n",
        "\n",
        "The extracted features are categorized into\n",
        "\n",
        "\n",
        "1.   Address Bar based Features\n",
        "2.   Domain based Features\n",
        "3.   HTML & Javascript based Features\n",
        "\n"
      ]
    },
    {
      "cell_type": "markdown",
      "metadata": {
        "colab_type": "text",
        "id": "vABNo39RQljI"
      },
      "source": [
        "### **3.1. Address Bar Based Features:**\n",
        "\n",
        "Many features can be extracted that can be consided as address bar base features. Out of them, below mentioned were considered for this project.\n",
        "\n",
        "\n",
        "*   Domain of URL\n",
        "*   IP Address in URL\n",
        "*   \"@\" Symbol in URL\n",
        "*   Length of URL\n",
        "*   Depth of URL\n",
        "*   Redirection \"//\" in URL\n",
        "*   \"http/https\" in Domain name\n",
        "*   Using URL Shortening Services “TinyURL”\n",
        "*   Prefix or Suffix \"-\" in Domain\n",
        "\n",
        "Each of these features are explained and the coded below:"
      ]
    },
    {
      "cell_type": "code",
      "execution_count": 140,
      "metadata": {
        "colab": {},
        "colab_type": "code",
        "id": "Rk4HFWsEKXpS"
      },
      "outputs": [],
      "source": [
        "# importing required packages for this section\n",
        "from urllib.parse import urlparse,urlencode\n",
        "import ipaddress\n",
        "import re"
      ]
    },
    {
      "cell_type": "markdown",
      "metadata": {
        "colab_type": "text",
        "id": "xd-UZd3c60-a"
      },
      "source": [
        "#### **3.1.1. Domain of the URL**\n",
        "Here, we are just extracting the domain present in the URL. This feature doesn't have much significance in the training. May even be dropped while training the model."
      ]
    },
    {
      "cell_type": "code",
      "execution_count": 141,
      "metadata": {
        "colab": {},
        "colab_type": "code",
        "id": "S0QorYenhaOD"
      },
      "outputs": [],
      "source": [
        "# 1.Domain of the URL (Domain) \n",
        "def getDomain(url):  \n",
        "    domain = urlparse(url).netloc\n",
        "    if re.match(r\"^www\\.\", domain):\n",
        "        domain = domain.replace(\"www.\", \"\")\n",
        "    return domain"
      ]
    },
    {
      "cell_type": "markdown",
      "metadata": {
        "colab_type": "text",
        "id": "1EPO6HJ87Pdv"
      },
      "source": [
        "#### **3.1.2. IP Address in the URL**\n",
        "\n",
        "Checks for the presence of IP address in the URL. URLs may have IP address instead of domain name. If an IP address is used as an alternative of the domain name in the URL, we can be sure that someone is trying to steal personal information with this URL.\n",
        "\n",
        "If the domain part of URL has IP address, the value assigned to this feature is 1 (phishing) or else 0 (legitimate).\n",
        "\n"
      ]
    },
    {
      "cell_type": "code",
      "execution_count": 142,
      "metadata": {
        "colab": {},
        "colab_type": "code",
        "id": "SX-4mbq27QBj"
      },
      "outputs": [],
      "source": [
        "# 2.Checks for IP address in URL (Have_IP)\n",
        "def havingIP(url):\n",
        "  try:\n",
        "    ipaddress.ip_address(url)\n",
        "    ip = 1\n",
        "  except:\n",
        "    ip = 0\n",
        "  return ip\n"
      ]
    },
    {
      "cell_type": "markdown",
      "metadata": {
        "colab_type": "text",
        "id": "Vcy-zay47S-q"
      },
      "source": [
        "#### **3.1.3. \"@\" Symbol in URL**\n",
        "\n",
        "Checks for the presence of '@' symbol in the URL. Using “@” symbol in the URL leads the browser to ignore everything preceding the “@” symbol and the real address often follows the “@” symbol. \n",
        "\n",
        "If the URL has '@' symbol, the value assigned to this feature is 1 (phishing) or else 0 (legitimate)."
      ]
    },
    {
      "cell_type": "code",
      "execution_count": 143,
      "metadata": {
        "colab": {},
        "colab_type": "code",
        "id": "XZQZi3K17TcR"
      },
      "outputs": [],
      "source": [
        "# 3.Checks the presence of @ in URL (Have_At)\n",
        "def haveAtSign(url):\n",
        "  if \"@\" in url:\n",
        "    at = 1    \n",
        "  else:\n",
        "    at = 0    \n",
        "  return at"
      ]
    },
    {
      "cell_type": "markdown",
      "metadata": {
        "colab_type": "text",
        "id": "mhFeCv2N9KLU"
      },
      "source": [
        "#### **3.1.4. Length of URL**\n",
        "\n",
        "Computes the length of the URL. Phishers can use long URL to hide the doubtful part in the address bar. In this project, if the length of the URL is greater than or equal 54 characters then the URL classified as phishing otherwise legitimate.\n",
        "\n",
        "If the length of URL >= 54 , the value assigned to this feature is 1 (phishing) or else 0 (legitimate)."
      ]
    },
    {
      "cell_type": "code",
      "execution_count": 144,
      "metadata": {
        "colab": {},
        "colab_type": "code",
        "id": "fnQazil39Kra"
      },
      "outputs": [],
      "source": [
        "# 4.Finding the length of URL and categorizing (URL_Length)\n",
        "def getLength(url):\n",
        "  if len(url) < 54:\n",
        "    length = 0            \n",
        "  else:\n",
        "    length = 1            \n",
        "  return length"
      ]
    },
    {
      "cell_type": "markdown",
      "metadata": {
        "colab_type": "text",
        "id": "8ICyOWg59LHt"
      },
      "source": [
        "#### **3.1.5. Depth of URL**\n",
        "\n",
        "Computes the depth of the URL. This feature calculates the number of sub pages in the given url based on the '/'.\n",
        "\n",
        "The value of feature is a numerical based on the URL."
      ]
    },
    {
      "cell_type": "code",
      "execution_count": 145,
      "metadata": {
        "colab": {},
        "colab_type": "code",
        "id": "yILgNFf_9L3X"
      },
      "outputs": [],
      "source": [
        "# 5.Gives number of '/' in URL (URL_Depth)\n",
        "def getDepth(url):\n",
        "  s = urlparse(url).path.split('/')\n",
        "  depth = 0\n",
        "  for j in range(len(s)):\n",
        "    if len(s[j]) != 0:\n",
        "      depth = depth+1\n",
        "  return depth"
      ]
    },
    {
      "cell_type": "markdown",
      "metadata": {
        "colab_type": "text",
        "id": "T5-eL0bBBRdx"
      },
      "source": [
        "#### **3.1.6. Redirection \"//\" in URL**\n",
        "\n",
        "Checks the presence of \"//\" in the URL. The existence of “//” within the URL path means that the user will be redirected to another website. The location of the “//” in URL is computed. We find that if the URL starts with “HTTP”, that means the “//” should appear in the sixth position. However, if the URL employs “HTTPS” then the “//” should appear in seventh position.\n",
        "\n",
        "If the \"//\" is anywhere in the URL apart from after the protocal, thee value assigned to this feature is 1 (phishing) or else 0 (legitimate)."
      ]
    },
    {
      "cell_type": "code",
      "execution_count": 146,
      "metadata": {
        "colab": {},
        "colab_type": "code",
        "id": "RIJEiq51BSy0"
      },
      "outputs": [],
      "source": [
        "# 6.Checking for redirection '//' in the url (Redirection)\n",
        "def redirection(url):\n",
        "  pos = url.rfind('//')\n",
        "  if pos > 6:\n",
        "    if pos > 7:\n",
        "      return 1\n",
        "    else:\n",
        "      return 0\n",
        "  else:\n",
        "    return 0"
      ]
    },
    {
      "cell_type": "markdown",
      "metadata": {
        "colab_type": "text",
        "id": "hHWQDIrtBa7n"
      },
      "source": [
        "#### **3.1.7. \"http/https\" in Domain name**\n",
        "\n",
        "Checks for the presence of \"http/https\" in the domain part of the URL. The phishers may add the “HTTPS” token to the domain part of a URL in order to trick users.\n",
        "\n",
        "If the URL has \"http/https\" in the domain part, the value assigned to this feature is 1 (phishing) or else 0 (legitimate)."
      ]
    },
    {
      "cell_type": "code",
      "execution_count": 147,
      "metadata": {
        "colab": {},
        "colab_type": "code",
        "id": "h2vW23O1BbWl"
      },
      "outputs": [],
      "source": [
        "# 7.Existence of “HTTPS” Token in the Domain Part of the URL (https_Domain)\n",
        "def httpDomain(url):\n",
        "  domain = urlparse(url).netloc\n",
        "  if 'https' in domain:\n",
        "    return 1\n",
        "  else:\n",
        "    return 0"
      ]
    },
    {
      "cell_type": "markdown",
      "metadata": {
        "colab_type": "text",
        "id": "rKL4jpeaPIvA"
      },
      "source": [
        "#### **3.1.8. Using URL Shortening Services “TinyURL”**\n",
        "\n",
        "URL shortening is a method on the “World Wide Web” in which a URL may be made considerably smaller in length and still lead to the required webpage. This is accomplished by means of an “HTTP Redirect” on a domain name that is short, which links to the webpage that has a long URL. \n",
        "\n",
        "If the URL is using Shortening Services, the value assigned to this feature is 1 (phishing) or else 0 (legitimate)."
      ]
    },
    {
      "cell_type": "code",
      "execution_count": 148,
      "metadata": {
        "colab": {},
        "colab_type": "code",
        "id": "UdC9pUdTAVRU"
      },
      "outputs": [],
      "source": [
        "#listing shortening services\n",
        "shortening_services = r\"bit\\.ly|goo\\.gl|shorte\\.st|go2l\\.ink|x\\.co|ow\\.ly|t\\.co|tinyurl|tr\\.im|is\\.gd|cli\\.gs|\" \\\n",
        "                      r\"yfrog\\.com|migre\\.me|ff\\.im|tiny\\.cc|url4\\.eu|twit\\.ac|su\\.pr|twurl\\.nl|snipurl\\.com|\" \\\n",
        "                      r\"short\\.to|BudURL\\.com|ping\\.fm|post\\.ly|Just\\.as|bkite\\.com|snipr\\.com|fic\\.kr|loopt\\.us|\" \\\n",
        "                      r\"doiop\\.com|short\\.ie|kl\\.am|wp\\.me|rubyurl\\.com|om\\.ly|to\\.ly|bit\\.do|t\\.co|lnkd\\.in|db\\.tt|\" \\\n",
        "                      r\"qr\\.ae|adf\\.ly|goo\\.gl|bitly\\.com|cur\\.lv|tinyurl\\.com|ow\\.ly|bit\\.ly|ity\\.im|q\\.gs|is\\.gd|\" \\\n",
        "                      r\"po\\.st|bc\\.vc|twitthis\\.com|u\\.to|j\\.mp|buzurl\\.com|cutt\\.us|u\\.bb|yourls\\.org|x\\.co|\" \\\n",
        "                      r\"prettylinkpro\\.com|scrnch\\.me|filoops\\.info|vzturl\\.com|qr\\.net|1url\\.com|tweez\\.me|v\\.gd|\" \\\n",
        "                      r\"tr\\.im|link\\.zip\\.net\""
      ]
    },
    {
      "cell_type": "code",
      "execution_count": 149,
      "metadata": {
        "colab": {},
        "colab_type": "code",
        "id": "IUkU9UbbnKpY"
      },
      "outputs": [],
      "source": [
        "# 8. Checking for Shortening Services in URL (Tiny_URL)\n",
        "def tinyURL(url):\n",
        "    match=re.search(shortening_services,url)\n",
        "    if match:\n",
        "        return 1\n",
        "    else:\n",
        "        return 0"
      ]
    },
    {
      "cell_type": "markdown",
      "metadata": {
        "colab_type": "text",
        "id": "HS-BuQJzPkaZ"
      },
      "source": [
        "#### **3.1.9. Prefix or Suffix \"-\" in Domain**\n",
        "\n",
        "Checking the presence of '-' in the domain part of URL. The dash symbol is rarely used in legitimate URLs. Phishers tend to add prefixes or suffixes separated by (-) to the domain name so that users feel that they are dealing with a legitimate webpage. \n",
        "\n",
        "If the URL has '-' symbol in the domain part of the URL, the value assigned to this feature is 1 (phishing) or else 0 (legitimate)."
      ]
    },
    {
      "cell_type": "code",
      "execution_count": 150,
      "metadata": {
        "colab": {},
        "colab_type": "code",
        "id": "vLyjiIUgPjuw"
      },
      "outputs": [],
      "source": [
        "# 9.Checking for Prefix or Suffix Separated by (-) in the Domain (Prefix/Suffix)\n",
        "def prefixSuffix(url):\n",
        "    if '-' in urlparse(url).netloc:\n",
        "        return 1            # phishing\n",
        "    else:\n",
        "        return 0            # legitimate"
      ]
    },
    {
      "cell_type": "markdown",
      "metadata": {
        "colab_type": "text",
        "id": "zO485F_BPk-k"
      },
      "source": [
        "### **3.2. Domain Based Features:**\n",
        "\n",
        "Many features can be extracted that come under this category. Out of them, below mentioned were considered for this project.\n",
        "\n",
        "*   DNS Record\n",
        "*   Website Traffic \n",
        "*   Age of Domain\n",
        "*   End Period of Domain\n",
        "\n",
        "Each of these features are explained and the coded below:"
      ]
    },
    {
      "cell_type": "code",
      "execution_count": 151,
      "metadata": {
        "colab": {
          "base_uri": "https://localhost:8080/",
          "height": 232
        },
        "colab_type": "code",
        "id": "NbkEYJ_JOVa7",
        "outputId": "f08b25f8-3852-432c-e141-8eb57ff916d8"
      },
      "outputs": [
        {
          "name": "stderr",
          "output_type": "stream",
          "text": [
            "3294.83s - pydevd: Sending message related to process being replaced timed-out after 5 seconds\n"
          ]
        },
        {
          "name": "stdout",
          "output_type": "stream",
          "text": [
            "Requirement already satisfied: python-whois in /opt/anaconda3/lib/python3.12/site-packages (0.9.5)\n",
            "Requirement already satisfied: python-dateutil in /opt/anaconda3/lib/python3.12/site-packages (from python-whois) (2.9.0.post0)\n",
            "Requirement already satisfied: six>=1.5 in /opt/anaconda3/lib/python3.12/site-packages (from python-dateutil->python-whois) (1.16.0)\n"
          ]
        }
      ],
      "source": [
        "!pip install python-whois"
      ]
    },
    {
      "cell_type": "code",
      "execution_count": 152,
      "metadata": {
        "colab": {},
        "colab_type": "code",
        "id": "esZ7FcvlOMZu"
      },
      "outputs": [],
      "source": [
        "# importing required packages for this section\n",
        "import re\n",
        "from bs4 import BeautifulSoup\n",
        "import whois\n",
        "import urllib\n",
        "import urllib.request\n",
        "from datetime import datetime"
      ]
    },
    {
      "cell_type": "markdown",
      "metadata": {
        "colab_type": "text",
        "id": "4ExXkkXYZWWZ"
      },
      "source": [
        "#### **3.2.1. DNS Record**\n",
        "\n",
        "For phishing websites, either the claimed identity is not recognized by the WHOIS database or no records founded for the hostname. \n",
        "If the DNS record is empty or not found then, the value assigned to this feature is 1 (phishing) or else 0 (legitimate)."
      ]
    },
    {
      "cell_type": "code",
      "execution_count": 153,
      "metadata": {
        "colab": {},
        "colab_type": "code",
        "id": "8O5D1jH0IDgf"
      },
      "outputs": [],
      "source": [
        "# 11.DNS Record availability (DNS_Record)\n",
        "# obtained in the featureExtraction function itself"
      ]
    },
    {
      "cell_type": "markdown",
      "metadata": {
        "colab_type": "text",
        "id": "M5DKTVPMZ1Yk"
      },
      "source": [
        "#### **3.2.2. Web Traffic**\n",
        "\n",
        "This feature measures the popularity of the website by determining the number of visitors and the number of pages they visit. However, since phishing websites live for a short period of time, they may not be recognized by the Alexa database (Alexa the Web Information Company., 1996). By reviewing our dataset, we find that in worst scenarios, legitimate websites ranked among the top 100,000. Furthermore, if the domain has no traffic or is not recognized by the Alexa database, it is classified as “Phishing”.\n",
        "\n",
        "If the rank of the domain < 100000, the vlaue of this feature is 1 (phishing) else 0 (legitimate)."
      ]
    },
    {
      "cell_type": "code",
      "execution_count": 154,
      "metadata": {
        "colab": {},
        "colab_type": "code",
        "id": "mtwQiRotZ2GD"
      },
      "outputs": [],
      "source": [
        "# 12.Web traffic (Web_Traffic)\n",
        "def web_traffic(url):\n",
        "  try:\n",
        "    #Filling the whitespaces in the URL if any\n",
        "    url = urllib.parse.quote(url)\n",
        "    rank = BeautifulSoup(urllib.request.urlopen(\"http://data.alexa.com/data?cli=10&dat=s&url=\" + url).read(), \"xml\").find(\n",
        "        \"REACH\")['RANK']\n",
        "    rank = int(rank)\n",
        "  except TypeError:\n",
        "        return 1\n",
        "  if rank <100000:\n",
        "    return 1\n",
        "  else:\n",
        "    return 0"
      ]
    },
    {
      "cell_type": "markdown",
      "metadata": {
        "colab_type": "text",
        "id": "jKHhfv2AacXq"
      },
      "source": [
        "#### **3.2.3. Age of Domain**\n",
        "\n",
        "This feature can be extracted from WHOIS database. Most phishing websites live for a short period of time. The minimum age of the legitimate domain is considered to be 12 months for this project. Age here is nothing but different between creation and expiration time.\n",
        "\n",
        "If age of domain > 12 months, the vlaue of this feature is 1 (phishing) else 0 (legitimate)."
      ]
    },
    {
      "cell_type": "code",
      "execution_count": 155,
      "metadata": {
        "colab": {},
        "colab_type": "code",
        "id": "li03hqJgH__j"
      },
      "outputs": [],
      "source": [
        "# 13.Survival time of domain: The difference between termination time and creation time (Domain_Age)  \n",
        "def domainAge(domain_name):\n",
        "  creation_date = domain_name.creation_date\n",
        "  expiration_date = domain_name.expiration_date\n",
        "  if (isinstance(creation_date,str) or isinstance(expiration_date,str)):\n",
        "    try:\n",
        "      creation_date = datetime.strptime(creation_date,'%Y-%m-%d')\n",
        "      expiration_date = datetime.strptime(expiration_date,\"%Y-%m-%d\")\n",
        "    except:\n",
        "      return 1\n",
        "  if ((expiration_date is None) or (creation_date is None)):\n",
        "      return 1\n",
        "  elif ((type(expiration_date) is list) or (type(creation_date) is list)):\n",
        "      return 1\n",
        "  else:\n",
        "    ageofdomain = abs((expiration_date - creation_date).days)\n",
        "    if ((ageofdomain/30) < 6):\n",
        "      age = 1\n",
        "    else:\n",
        "      age = 0\n",
        "  return age"
      ]
    },
    {
      "cell_type": "markdown",
      "metadata": {
        "colab_type": "text",
        "id": "AbjRrzA7aenm"
      },
      "source": [
        "#### **3.2.4. End Period of Domain**\n",
        "\n",
        "This feature can be extracted from WHOIS database. For this feature, the remaining domain time is calculated by finding the different between expiration time & current time. The end period considered for the legitimate domain is 6 months or less  for this project. \n",
        "\n",
        "If end period of domain > 6 months, the vlaue of this feature is 1 (phishing) else 0 (legitimate)."
      ]
    },
    {
      "cell_type": "code",
      "execution_count": 156,
      "metadata": {
        "colab": {},
        "colab_type": "code",
        "id": "NueO81-ttKYd"
      },
      "outputs": [],
      "source": [
        "# 14.End time of domain: The difference between termination time and current time (Domain_End) \n",
        "def domainEnd(domain_name):\n",
        "  expiration_date = domain_name.expiration_date\n",
        "  if isinstance(expiration_date,str):\n",
        "    try:\n",
        "      expiration_date = datetime.strptime(expiration_date,\"%Y-%m-%d\")\n",
        "    except:\n",
        "      return 1\n",
        "  if (expiration_date is None):\n",
        "      return 1\n",
        "  elif (type(expiration_date) is list):\n",
        "      return 1\n",
        "  else:\n",
        "    today = datetime.now()\n",
        "    end = abs((expiration_date - today).days)\n",
        "    if ((end/30) < 6):\n",
        "      end = 0\n",
        "    else:\n",
        "      end = 1\n",
        "  return end"
      ]
    },
    {
      "cell_type": "markdown",
      "metadata": {
        "colab_type": "text",
        "id": "Oln3Xj-9t-Y6"
      },
      "source": [
        "## **3.3. HTML and JavaScript based Features**\n",
        "\n",
        "Many features can be extracted that come under this category. Out of them, below mentioned were considered for this project.\n",
        "\n",
        "*   IFrame Redirection\n",
        "*   Status Bar Customization\n",
        "*   Disabling Right Click\n",
        "*   Website Forwarding\n",
        "\n",
        "Each of these features are explained and the coded below:"
      ]
    },
    {
      "cell_type": "code",
      "execution_count": 157,
      "metadata": {
        "colab": {},
        "colab_type": "code",
        "id": "lw0JmOGEQPwb"
      },
      "outputs": [],
      "source": [
        "# importing required packages for this section\n",
        "import requests"
      ]
    },
    {
      "cell_type": "markdown",
      "metadata": {
        "colab_type": "text",
        "id": "RES6bSWPy-Bj"
      },
      "source": [
        "### **3.3.1. IFrame Redirection**\n",
        "\n",
        "IFrame is an HTML tag used to display an additional webpage into one that is currently shown. Phishers can make use of the “iframe” tag and make it invisible i.e. without frame borders. In this regard, phishers make use of the “frameBorder” attribute which causes the browser to render a visual delineation. \n",
        "\n",
        "If the iframe is empty or repsonse is not found then, the value assigned to this feature is 1 (phishing) or else 0 (legitimate)."
      ]
    },
    {
      "cell_type": "code",
      "execution_count": 158,
      "metadata": {
        "colab": {},
        "colab_type": "code",
        "id": "F2gpZEMSQGpu"
      },
      "outputs": [],
      "source": [
        "# 15. IFrame Redirection (iFrame)\n",
        "def iframe(response):\n",
        "  if response == \"\":\n",
        "      return 1\n",
        "  else:\n",
        "      if re.findall(r\"[<iframe>|<frameBorder>]\", response.text):\n",
        "          return 0\n",
        "      else:\n",
        "          return 1"
      ]
    },
    {
      "cell_type": "markdown",
      "metadata": {
        "colab_type": "text",
        "id": "Ggh4ySE0BqjV"
      },
      "source": [
        "### **3.3.2. Status Bar Customization**\n",
        "\n",
        "Phishers may use JavaScript to show a fake URL in the status bar to users. To extract this feature, we must dig-out the webpage source code, particularly the “onMouseOver” event, and check if it makes any changes on the status bar\n",
        "\n",
        "If the response is empty or onmouseover is found then, the value assigned to this feature is 1 (phishing) or else 0 (legitimate)."
      ]
    },
    {
      "cell_type": "code",
      "execution_count": 159,
      "metadata": {
        "colab": {},
        "colab_type": "code",
        "id": "eapOq2afVGCF"
      },
      "outputs": [],
      "source": [
        "# 16.Checks the effect of mouse over on status bar (Mouse_Over)\n",
        "def mouseOver(response): \n",
        "  if response == \"\" :\n",
        "    return 1\n",
        "  else:\n",
        "    if re.findall(\"<script>.+onmouseover.+</script>\", response.text):\n",
        "      return 1\n",
        "    else:\n",
        "      return 0"
      ]
    },
    {
      "cell_type": "markdown",
      "metadata": {
        "colab_type": "text",
        "id": "IYgMTh1zBac9"
      },
      "source": [
        "### **3.3.3. Disabling Right Click**\n",
        "\n",
        "Phishers use JavaScript to disable the right-click function, so that users cannot view and save the webpage source code. This feature is treated exactly as “Using onMouseOver to hide the Link”. Nonetheless, for this feature, we will search for event “event.button==2” in the webpage source code and check if the right click is disabled.\n",
        "\n",
        "If the response is empty or onmouseover is not found then, the value assigned to this feature is 1 (phishing) or else 0 (legitimate).\n",
        "\n",
        "\n"
      ]
    },
    {
      "cell_type": "code",
      "execution_count": 160,
      "metadata": {
        "colab": {},
        "colab_type": "code",
        "id": "9x3lR3lFIVj2"
      },
      "outputs": [],
      "source": [
        "# 17.Checks the status of the right click attribute (Right_Click)\n",
        "def rightClick(response):\n",
        "  if response == \"\":\n",
        "    return 1\n",
        "  else:\n",
        "    if re.findall(r\"event.button ?== ?2\", response.text):\n",
        "      return 0\n",
        "    else:\n",
        "      return 1"
      ]
    },
    {
      "cell_type": "markdown",
      "metadata": {
        "colab_type": "text",
        "id": "1NAnYm0wKKRC"
      },
      "source": [
        "### **3.3.4. Website Forwarding**\n",
        "The fine line that distinguishes phishing websites from legitimate ones is how many times a website has been redirected. In our dataset, we find that legitimate websites have been redirected one time max. On the other hand, phishing websites containing this feature have been redirected at least 4 times. \n",
        "\n",
        "\n"
      ]
    },
    {
      "cell_type": "code",
      "execution_count": 161,
      "metadata": {
        "colab": {},
        "colab_type": "code",
        "id": "GkpLyDIpKK0W"
      },
      "outputs": [],
      "source": [
        "# 18.Checks the number of forwardings (Web_Forwards)    \n",
        "def forwarding(response):\n",
        "  if response == \"\":\n",
        "    return 1\n",
        "  else:\n",
        "    if len(response.history) <= 2:\n",
        "      return 0\n",
        "    else:\n",
        "      return 1"
      ]
    },
    {
      "cell_type": "markdown",
      "metadata": {
        "colab_type": "text",
        "id": "AVtp7WtjdIfv"
      },
      "source": [
        "## **4. Computing URL Features**\n",
        "\n",
        "Create a list and a function that calls the other functions and stores all the features of the URL in the list. We will extract the features of each URL and append to this list."
      ]
    },
    {
      "cell_type": "code",
      "execution_count": 162,
      "metadata": {
        "colab": {},
        "colab_type": "code",
        "id": "8GzyvCg2rzWU"
      },
      "outputs": [],
      "source": [
        "#Function to extract features\n",
        "def featureExtraction(url,label):\n",
        "\n",
        "  features = []\n",
        "  #Address bar based features (10)\n",
        "  features.append(getDomain(url))\n",
        "  features.append(havingIP(url))\n",
        "  features.append(haveAtSign(url))\n",
        "  features.append(getLength(url))\n",
        "  features.append(getDepth(url))\n",
        "  features.append(redirection(url))\n",
        "  features.append(httpDomain(url))\n",
        "  features.append(tinyURL(url))\n",
        "  features.append(prefixSuffix(url))\n",
        "  \n",
        "  #Domain based features (4)\n",
        "  dns = 0\n",
        "  try:\n",
        "    domain_name = whois.whois(urlparse(url).netloc)\n",
        "  except:\n",
        "    dns = 1\n",
        "\n",
        "  features.append(dns)\n",
        "  features.append(web_traffic(url))\n",
        "  features.append(1 if dns == 1 else domainAge(domain_name))\n",
        "  features.append(1 if dns == 1 else domainEnd(domain_name))\n",
        "  \n",
        "  # HTML & Javascript based features (4)\n",
        "  try:\n",
        "    response = requests.get(url)\n",
        "  except:\n",
        "    response = \"\"\n",
        "  features.append(iframe(response))\n",
        "  features.append(mouseOver(response))\n",
        "  features.append(rightClick(response))\n",
        "  features.append(forwarding(response))\n",
        "  features.append(label)\n",
        "  \n",
        "  return features"
      ]
    },
    {
      "cell_type": "markdown",
      "metadata": {
        "colab_type": "text",
        "id": "-v0QtVxld0Qq"
      },
      "source": [
        "### **4.1. Legitimate URLs:**\n",
        "\n",
        "Now, feature extraction is done on legitimate URLs."
      ]
    },
    {
      "cell_type": "code",
      "execution_count": 163,
      "metadata": {
        "colab": {
          "base_uri": "https://localhost:8080/",
          "height": 35
        },
        "colab_type": "code",
        "id": "s_2AX4OPeJRP",
        "outputId": "a4ac4615-e723-4969-d3c4-c7eab93515e7"
      },
      "outputs": [
        {
          "data": {
            "text/plain": [
              "(200, 1)"
            ]
          },
          "execution_count": 163,
          "metadata": {},
          "output_type": "execute_result"
        }
      ],
      "source": [
        "legiurl.shape"
      ]
    },
    {
      "cell_type": "code",
      "execution_count": 164,
      "metadata": {
        "colab": {},
        "colab_type": "code",
        "id": "BKNg26HEP5kN"
      },
      "outputs": [
        {
          "name": "stdout",
          "output_type": "stream",
          "text": [
            "Error in Url #0: http://graphicriver.net/search?date=this-month&length_max=&length_min=&price_max=&price_min=&rating_min=&sales=&sort=sales&term=&view=list\n",
            "Error: <urlopen error [Errno 8] nodename nor servname provided, or not known>\n",
            "Error in Url #1: http://ecnavi.jp/redirect/?url=http://www.cross-a.net/x.php?id=1845_3212_22061_26563&m=1004&pid=%user_id%\n",
            "Error: <urlopen error [Errno 8] nodename nor servname provided, or not known>\n",
            "Error in Url #2: https://hubpages.com/signin?explain=follow+Hubs&url=%2Fhub%2FComfort-Theories-of-Religion\n",
            "Error: <urlopen error [Errno 8] nodename nor servname provided, or not known>\n",
            "Error in Url #3: http://extratorrent.cc/torrent/4190536/AOMEI+Backupper+Technician+%2B+Server+Edition+2.8.0+%2B+Patch+%2B+Key+%2B+100%25+Working.html\n",
            "Error: <urlopen error [Errno 8] nodename nor servname provided, or not known>\n",
            "Error in Url #4: http://icicibank.com/Personal-Banking/offers/offer-detail.page?id=offer-ezeego-domestic-airtravel-20141407112611060\n",
            "Error: <urlopen error [Errno 8] nodename nor servname provided, or not known>\n",
            "Error in Url #5: http://nypost.com/2015/05/07/us-indifference-leaves-saudis-partnering-with-terrorists/\n",
            "Error: <urlopen error [Errno 8] nodename nor servname provided, or not known>\n"
          ]
        },
        {
          "name": "stderr",
          "output_type": "stream",
          "text": [
            "2025-05-22 22:01:09,264 - whois.whois - ERROR - Error trying to connect to socket: closing socket - [Errno 8] nodename nor servname provided, or not known\n"
          ]
        },
        {
          "name": "stdout",
          "output_type": "stream",
          "text": [
            "Error in Url #6: http://kienthuc.net.vn/diem-thi/diem-chuan-dh-cong-nghe-giao-thong-van-tai-nam-2014-482407.html\n",
            "Error: <urlopen error [Errno 8] nodename nor servname provided, or not known>\n",
            "Error in Url #7: http://thenextweb.com/in/2015/04/16/india-wants-a-neutral-web-and-facebooks-internet-org-cant-be-a-part-of-it/gtm.js\n",
            "Error: <urlopen error [Errno 8] nodename nor servname provided, or not known>\n",
            "Error in Url #8: http://tobogo.net/cdsb/board.php?board=greet&bm=view&no=5716&category=&auth=&page=1&search=&keyword=&recom=\n",
            "Error: <urlopen error [Errno 8] nodename nor servname provided, or not known>\n",
            "Error in Url #9: http://akhbarelyom.com/news/newdetails/411395/1/%D9%85%D8%AD%D8%A7%D9%81%D8%B8-%D8%A7%D9%84%D8%A8%D8%AD%D9%8A%D8%B1.html\n",
            "Error: <urlopen error [Errno 8] nodename nor servname provided, or not known>\n",
            "Error in Url #10: http://tunein.com/radio/Carolina-Mudcats-at-Myrtle-Beach-Pelicans-May-13-2015-p729095/15480783/ca-pub-1542925551861702/ProgramTopBanner\n",
            "Error: <urlopen error [Errno 8] nodename nor servname provided, or not known>\n",
            "Error in Url #11: https://tune.pk/video/6046458/canelo-vs-kirkland-highlights-hbo-world-championship-boxing\n",
            "Error: <urlopen error [Errno 8] nodename nor servname provided, or not known>\n",
            "Error in Url #12: http://sfglobe.com/2015/05/01/six-baltimore-police-officers-charged-in-freddie-grays-death/?src=home_feed\n",
            "Error: <urlopen error [Errno 8] nodename nor servname provided, or not known>\n",
            "Error in Url #13: http://mic.com/articles/107372/49-tremendous-things-florida-men-accomplished-this-year\n",
            "Error: <urlopen error [Errno 8] nodename nor servname provided, or not known>\n",
            "Error in Url #14: http://thenextweb.com/apps/2015/05/07/flickr-launches-redesigned-mobile-apps-encourages-you-to-upload-your-entire-camera-roll/gtm.js\n",
            "Error: <urlopen error [Errno 8] nodename nor servname provided, or not known>\n",
            "Error in Url #15: http://couchtuner.eu.com/2013/05/anger-management-s2-e17-charlie-lets-kate-take-charge.html\n",
            "Error: <urlopen error [Errno 8] nodename nor servname provided, or not known>\n",
            "Error in Url #16: http://olx.in/hi/item/nokia-5800-express-music-perfect-working-condition-body-average-cond-IDTIzUp.html\n",
            "Error: <urlopen error [Errno 8] nodename nor servname provided, or not known>\n",
            "Error in Url #17: http://venturebeat.com/2015/05/08/yelp-sale-rumor-reminds-us-that-social-is-terrible-as-a-business-even-if-it-did-change-the-web/\n",
            "Error: <urlopen error [Errno 8] nodename nor servname provided, or not known>\n",
            "Error in Url #18: http://allegro.pl/listing/listing.php?id=122233&order=m&string=%7Bstring%7D&bmatch=seng-ps-mp-p-sm-isqm-2-e-0402\n",
            "Error: <urlopen error [Errno 8] nodename nor servname provided, or not known>\n",
            "Error in Url #19: http://allegro.pl/listing/listing.php?id=20782&order=m&p=2&string=%7Bstring%7D&bmatch=seng-v10-p-sm-isqm-2-o-0113\n",
            "Error: <urlopen error [Errno 8] nodename nor servname provided, or not known>\n",
            "Error in Url #20: http://tinnhanh360.net/-ong-tay-de-thuong-ban-do-choi-dao-ha-noi-gay-ngac-nhien-thich-thu.html\n",
            "Error: <urlopen error [Errno 8] nodename nor servname provided, or not known>\n",
            "Error in Url #21: http://metro.co.uk/2014/08/15/big-brother-2014-shock-twist-ashleigh-coyle-comes-second-4834723/\n",
            "Error: <urlopen error [Errno 8] nodename nor servname provided, or not known>\n",
            "Error in Url #22: http://atwiki.jp/wiki/%EF%BC%AD%EF%BC%B5%EF%BC%A7%EF%BC%A5%EF%BC%AE%20%E6%82%9F%E7%A9%BA\n",
            "Error: <urlopen error [Errno 8] nodename nor servname provided, or not known>\n",
            "Error in Url #23: http://emgn.com/tv/schnauzer-passes-out-with-excitement-when-he-is-reunited-with-his-human-after-2-years/\n",
            "Error: <urlopen error [Errno 8] nodename nor servname provided, or not known>\n",
            "Error in Url #24: http://nguyentandung.org/bo-truong-nguyen-bac-son-se-manh-tay-ngan-chan-tin-nhan-rac.html\n",
            "Error: <urlopen error [Errno 8] nodename nor servname provided, or not known>\n"
          ]
        },
        {
          "name": "stderr",
          "output_type": "stream",
          "text": [
            "2025-05-22 22:01:34,103 - whois.whois - ERROR - Error trying to connect to socket: closing socket - [Errno 8] nodename nor servname provided, or not known\n"
          ]
        },
        {
          "name": "stdout",
          "output_type": "stream",
          "text": [
            "Error in Url #25: http://motthegioi.vn/tai-chinh-bat-dong-san/tu-17-nguoi-mua-nha-dat-phai-cong-them-hang-loat-chi-phi-187472.html\n",
            "Error: <urlopen error [Errno 8] nodename nor servname provided, or not known>\n",
            "Error in Url #26: http://spankbang.com/4ze1/video/brunette+with+big+boobs+fucked+in+a+cellar+public+agent\n",
            "Error: <urlopen error [Errno 8] nodename nor servname provided, or not known>\n",
            "Error in Url #27: http://torcache.net/torrent/FECDCFB88429EDAE6184E26D63EDD5A1AB2B1736.torrent?title=[kickass.to]bro.s.before.ho.s.2013.720p.brrip.nl.gesproken.dutchreleaseteam\n",
            "Error: <urlopen error [Errno 8] nodename nor servname provided, or not known>\n",
            "Error in Url #28: http://mic.com/articles/117370/baltimore-reveals-why-we-need-our-musicians-now-more-than-ever\n",
            "Error: <urlopen error [Errno 8] nodename nor servname provided, or not known>\n",
            "Error in Url #29: http://thenextweb.com/dd/2014/04/08/ux-designers-side-drawer-navigation-costing-half-user-engagement/feed/gtm.start\n",
            "Error: <urlopen error [Errno 8] nodename nor servname provided, or not known>\n"
          ]
        }
      ],
      "source": [
        "#Extracting the feautres & storing them in a list\n",
        "legi_features = []\n",
        "label = 0\n",
        "\n",
        "for i in range(0, 30):\n",
        "  url = legiurl['URLs'][i]\n",
        "  try:\n",
        "    features = featureExtraction(url, label)\n",
        "    legi_features.append(features)\n",
        "  except Exception as e:\n",
        "    print(f\"Error in Url #{i}: {url}\")\n",
        "    print(f\"Error: {e}\")\n",
        "    continue\n",
        "\n",
        "    # Adding small delay to avoid hitting too many servers too fast\n",
        "    time.sleep(0.5)\n",
        "\n",
        "    # Optional: progress log every 100 URLs\n",
        "    if i % 100 == 0:\n",
        "        print(f\"Processed {i} URLs...\")"
      ]
    },
    {
      "cell_type": "code",
      "execution_count": 165,
      "metadata": {
        "colab": {
          "base_uri": "https://localhost:8080/",
          "height": 220
        },
        "colab_type": "code",
        "id": "DSuxYREMi0fr",
        "outputId": "de1e393b-ed2b-4021-a05b-d5b696852365"
      },
      "outputs": [
        {
          "data": {
            "application/vnd.microsoft.datawrangler.viewer.v0+json": {
              "columns": [
                {
                  "name": "index",
                  "rawType": "int64",
                  "type": "integer"
                },
                {
                  "name": "Domain",
                  "rawType": "object",
                  "type": "string"
                },
                {
                  "name": "Have_IP",
                  "rawType": "object",
                  "type": "string"
                },
                {
                  "name": "Have_At",
                  "rawType": "object",
                  "type": "string"
                },
                {
                  "name": "URL_Length",
                  "rawType": "object",
                  "type": "string"
                },
                {
                  "name": "URL_Depth",
                  "rawType": "object",
                  "type": "string"
                },
                {
                  "name": "Redirection",
                  "rawType": "object",
                  "type": "string"
                },
                {
                  "name": "https_Domain",
                  "rawType": "object",
                  "type": "string"
                },
                {
                  "name": "TinyURL",
                  "rawType": "object",
                  "type": "string"
                },
                {
                  "name": "Prefix/Suffix",
                  "rawType": "object",
                  "type": "string"
                },
                {
                  "name": "DNS_Record",
                  "rawType": "object",
                  "type": "string"
                },
                {
                  "name": "Web_Traffic",
                  "rawType": "object",
                  "type": "string"
                },
                {
                  "name": "Domain_Age",
                  "rawType": "object",
                  "type": "string"
                },
                {
                  "name": "Domain_End",
                  "rawType": "object",
                  "type": "string"
                },
                {
                  "name": "iFrame",
                  "rawType": "object",
                  "type": "string"
                },
                {
                  "name": "Mouse_Over",
                  "rawType": "object",
                  "type": "string"
                },
                {
                  "name": "Right_Click",
                  "rawType": "object",
                  "type": "string"
                },
                {
                  "name": "Web_Forwards",
                  "rawType": "object",
                  "type": "string"
                },
                {
                  "name": "Label",
                  "rawType": "object",
                  "type": "string"
                }
              ],
              "ref": "af7b8de0-ee93-4de8-a715-0caa8054df00",
              "rows": [],
              "shape": {
                "columns": 18,
                "rows": 0
              }
            },
            "text/html": [
              "<div>\n",
              "<style scoped>\n",
              "    .dataframe tbody tr th:only-of-type {\n",
              "        vertical-align: middle;\n",
              "    }\n",
              "\n",
              "    .dataframe tbody tr th {\n",
              "        vertical-align: top;\n",
              "    }\n",
              "\n",
              "    .dataframe thead th {\n",
              "        text-align: right;\n",
              "    }\n",
              "</style>\n",
              "<table border=\"1\" class=\"dataframe\">\n",
              "  <thead>\n",
              "    <tr style=\"text-align: right;\">\n",
              "      <th></th>\n",
              "      <th>Domain</th>\n",
              "      <th>Have_IP</th>\n",
              "      <th>Have_At</th>\n",
              "      <th>URL_Length</th>\n",
              "      <th>URL_Depth</th>\n",
              "      <th>Redirection</th>\n",
              "      <th>https_Domain</th>\n",
              "      <th>TinyURL</th>\n",
              "      <th>Prefix/Suffix</th>\n",
              "      <th>DNS_Record</th>\n",
              "      <th>Web_Traffic</th>\n",
              "      <th>Domain_Age</th>\n",
              "      <th>Domain_End</th>\n",
              "      <th>iFrame</th>\n",
              "      <th>Mouse_Over</th>\n",
              "      <th>Right_Click</th>\n",
              "      <th>Web_Forwards</th>\n",
              "      <th>Label</th>\n",
              "    </tr>\n",
              "  </thead>\n",
              "  <tbody>\n",
              "  </tbody>\n",
              "</table>\n",
              "</div>"
            ],
            "text/plain": [
              "Empty DataFrame\n",
              "Columns: [Domain, Have_IP, Have_At, URL_Length, URL_Depth, Redirection, https_Domain, TinyURL, Prefix/Suffix, DNS_Record, Web_Traffic, Domain_Age, Domain_End, iFrame, Mouse_Over, Right_Click, Web_Forwards, Label]\n",
              "Index: []"
            ]
          },
          "execution_count": 165,
          "metadata": {},
          "output_type": "execute_result"
        }
      ],
      "source": [
        "#converting the list to dataframe\n",
        "feature_names = ['Domain', 'Have_IP', 'Have_At', 'URL_Length', 'URL_Depth','Redirection', \n",
        "                      'https_Domain', 'TinyURL', 'Prefix/Suffix', 'DNS_Record', 'Web_Traffic', \n",
        "                      'Domain_Age', 'Domain_End', 'iFrame', 'Mouse_Over','Right_Click', 'Web_Forwards', 'Label']\n",
        "\n",
        "legitimate = pd.DataFrame(legi_features, columns= feature_names)\n",
        "legitimate.head()"
      ]
    },
    {
      "cell_type": "code",
      "execution_count": 166,
      "metadata": {
        "colab": {},
        "colab_type": "code",
        "id": "1jVcLHvXC031"
      },
      "outputs": [],
      "source": [
        "# Storing the extracted legitimate URLs fatures to csv file\n",
        "legitimate.to_csv('DataFiles/3.legitimate.csv', index= False)"
      ]
    },
    {
      "cell_type": "markdown",
      "metadata": {
        "colab_type": "text",
        "id": "vrZJo_aboeGb"
      },
      "source": [
        "### **4.2. Phishing URLs:**\n",
        "\n",
        "Now, feature extraction is performed on phishing URLs."
      ]
    },
    {
      "cell_type": "code",
      "execution_count": 167,
      "metadata": {
        "colab": {
          "base_uri": "https://localhost:8080/",
          "height": 35
        },
        "colab_type": "code",
        "id": "PSKf1PCeoeGd",
        "outputId": "953c12ff-7f25-4491-ce67-ffcf4b1251b0"
      },
      "outputs": [
        {
          "data": {
            "text/plain": [
              "(5000, 8)"
            ]
          },
          "execution_count": 167,
          "metadata": {},
          "output_type": "execute_result"
        }
      ],
      "source": [
        "phishurl.shape"
      ]
    },
    {
      "cell_type": "code",
      "execution_count": 172,
      "metadata": {
        "colab": {},
        "colab_type": "code",
        "id": "WGhZMkbaoeGh"
      },
      "outputs": [
        {
          "ename": "URLError",
          "evalue": "<urlopen error [Errno 8] nodename nor servname provided, or not known>",
          "output_type": "error",
          "traceback": [
            "\u001b[0;31m---------------------------------------------------------------------------\u001b[0m",
            "\u001b[0;31mgaierror\u001b[0m                                  Traceback (most recent call last)",
            "File \u001b[0;32m/opt/anaconda3/lib/python3.12/urllib/request.py:1344\u001b[0m, in \u001b[0;36mAbstractHTTPHandler.do_open\u001b[0;34m(self, http_class, req, **http_conn_args)\u001b[0m\n\u001b[1;32m   1343\u001b[0m \u001b[38;5;28;01mtry\u001b[39;00m:\n\u001b[0;32m-> 1344\u001b[0m     h\u001b[38;5;241m.\u001b[39mrequest(req\u001b[38;5;241m.\u001b[39mget_method(), req\u001b[38;5;241m.\u001b[39mselector, req\u001b[38;5;241m.\u001b[39mdata, headers,\n\u001b[1;32m   1345\u001b[0m               encode_chunked\u001b[38;5;241m=\u001b[39mreq\u001b[38;5;241m.\u001b[39mhas_header(\u001b[38;5;124m'\u001b[39m\u001b[38;5;124mTransfer-encoding\u001b[39m\u001b[38;5;124m'\u001b[39m))\n\u001b[1;32m   1346\u001b[0m \u001b[38;5;28;01mexcept\u001b[39;00m \u001b[38;5;167;01mOSError\u001b[39;00m \u001b[38;5;28;01mas\u001b[39;00m err: \u001b[38;5;66;03m# timeout error\u001b[39;00m\n",
            "File \u001b[0;32m/opt/anaconda3/lib/python3.12/http/client.py:1331\u001b[0m, in \u001b[0;36mHTTPConnection.request\u001b[0;34m(self, method, url, body, headers, encode_chunked)\u001b[0m\n\u001b[1;32m   1330\u001b[0m \u001b[38;5;250m\u001b[39m\u001b[38;5;124;03m\"\"\"Send a complete request to the server.\"\"\"\u001b[39;00m\n\u001b[0;32m-> 1331\u001b[0m \u001b[38;5;28mself\u001b[39m\u001b[38;5;241m.\u001b[39m_send_request(method, url, body, headers, encode_chunked)\n",
            "File \u001b[0;32m/opt/anaconda3/lib/python3.12/http/client.py:1377\u001b[0m, in \u001b[0;36mHTTPConnection._send_request\u001b[0;34m(self, method, url, body, headers, encode_chunked)\u001b[0m\n\u001b[1;32m   1376\u001b[0m     body \u001b[38;5;241m=\u001b[39m _encode(body, \u001b[38;5;124m'\u001b[39m\u001b[38;5;124mbody\u001b[39m\u001b[38;5;124m'\u001b[39m)\n\u001b[0;32m-> 1377\u001b[0m \u001b[38;5;28mself\u001b[39m\u001b[38;5;241m.\u001b[39mendheaders(body, encode_chunked\u001b[38;5;241m=\u001b[39mencode_chunked)\n",
            "File \u001b[0;32m/opt/anaconda3/lib/python3.12/http/client.py:1326\u001b[0m, in \u001b[0;36mHTTPConnection.endheaders\u001b[0;34m(self, message_body, encode_chunked)\u001b[0m\n\u001b[1;32m   1325\u001b[0m     \u001b[38;5;28;01mraise\u001b[39;00m CannotSendHeader()\n\u001b[0;32m-> 1326\u001b[0m \u001b[38;5;28mself\u001b[39m\u001b[38;5;241m.\u001b[39m_send_output(message_body, encode_chunked\u001b[38;5;241m=\u001b[39mencode_chunked)\n",
            "File \u001b[0;32m/opt/anaconda3/lib/python3.12/http/client.py:1085\u001b[0m, in \u001b[0;36mHTTPConnection._send_output\u001b[0;34m(self, message_body, encode_chunked)\u001b[0m\n\u001b[1;32m   1084\u001b[0m \u001b[38;5;28;01mdel\u001b[39;00m \u001b[38;5;28mself\u001b[39m\u001b[38;5;241m.\u001b[39m_buffer[:]\n\u001b[0;32m-> 1085\u001b[0m \u001b[38;5;28mself\u001b[39m\u001b[38;5;241m.\u001b[39msend(msg)\n\u001b[1;32m   1087\u001b[0m \u001b[38;5;28;01mif\u001b[39;00m message_body \u001b[38;5;129;01mis\u001b[39;00m \u001b[38;5;129;01mnot\u001b[39;00m \u001b[38;5;28;01mNone\u001b[39;00m:\n\u001b[1;32m   1088\u001b[0m \n\u001b[1;32m   1089\u001b[0m     \u001b[38;5;66;03m# create a consistent interface to message_body\u001b[39;00m\n",
            "File \u001b[0;32m/opt/anaconda3/lib/python3.12/http/client.py:1029\u001b[0m, in \u001b[0;36mHTTPConnection.send\u001b[0;34m(self, data)\u001b[0m\n\u001b[1;32m   1028\u001b[0m \u001b[38;5;28;01mif\u001b[39;00m \u001b[38;5;28mself\u001b[39m\u001b[38;5;241m.\u001b[39mauto_open:\n\u001b[0;32m-> 1029\u001b[0m     \u001b[38;5;28mself\u001b[39m\u001b[38;5;241m.\u001b[39mconnect()\n\u001b[1;32m   1030\u001b[0m \u001b[38;5;28;01melse\u001b[39;00m:\n",
            "File \u001b[0;32m/opt/anaconda3/lib/python3.12/http/client.py:995\u001b[0m, in \u001b[0;36mHTTPConnection.connect\u001b[0;34m(self)\u001b[0m\n\u001b[1;32m    994\u001b[0m sys\u001b[38;5;241m.\u001b[39maudit(\u001b[38;5;124m\"\u001b[39m\u001b[38;5;124mhttp.client.connect\u001b[39m\u001b[38;5;124m\"\u001b[39m, \u001b[38;5;28mself\u001b[39m, \u001b[38;5;28mself\u001b[39m\u001b[38;5;241m.\u001b[39mhost, \u001b[38;5;28mself\u001b[39m\u001b[38;5;241m.\u001b[39mport)\n\u001b[0;32m--> 995\u001b[0m \u001b[38;5;28mself\u001b[39m\u001b[38;5;241m.\u001b[39msock \u001b[38;5;241m=\u001b[39m \u001b[38;5;28mself\u001b[39m\u001b[38;5;241m.\u001b[39m_create_connection(\n\u001b[1;32m    996\u001b[0m     (\u001b[38;5;28mself\u001b[39m\u001b[38;5;241m.\u001b[39mhost,\u001b[38;5;28mself\u001b[39m\u001b[38;5;241m.\u001b[39mport), \u001b[38;5;28mself\u001b[39m\u001b[38;5;241m.\u001b[39mtimeout, \u001b[38;5;28mself\u001b[39m\u001b[38;5;241m.\u001b[39msource_address)\n\u001b[1;32m    997\u001b[0m \u001b[38;5;66;03m# Might fail in OSs that don't implement TCP_NODELAY\u001b[39;00m\n",
            "File \u001b[0;32m/opt/anaconda3/lib/python3.12/socket.py:828\u001b[0m, in \u001b[0;36mcreate_connection\u001b[0;34m(address, timeout, source_address, all_errors)\u001b[0m\n\u001b[1;32m    827\u001b[0m exceptions \u001b[38;5;241m=\u001b[39m []\n\u001b[0;32m--> 828\u001b[0m \u001b[38;5;28;01mfor\u001b[39;00m res \u001b[38;5;129;01min\u001b[39;00m getaddrinfo(host, port, \u001b[38;5;241m0\u001b[39m, SOCK_STREAM):\n\u001b[1;32m    829\u001b[0m     af, socktype, proto, canonname, sa \u001b[38;5;241m=\u001b[39m res\n",
            "File \u001b[0;32m/opt/anaconda3/lib/python3.12/socket.py:963\u001b[0m, in \u001b[0;36mgetaddrinfo\u001b[0;34m(host, port, family, type, proto, flags)\u001b[0m\n\u001b[1;32m    962\u001b[0m addrlist \u001b[38;5;241m=\u001b[39m []\n\u001b[0;32m--> 963\u001b[0m \u001b[38;5;28;01mfor\u001b[39;00m res \u001b[38;5;129;01min\u001b[39;00m _socket\u001b[38;5;241m.\u001b[39mgetaddrinfo(host, port, family, \u001b[38;5;28mtype\u001b[39m, proto, flags):\n\u001b[1;32m    964\u001b[0m     af, socktype, proto, canonname, sa \u001b[38;5;241m=\u001b[39m res\n",
            "\u001b[0;31mgaierror\u001b[0m: [Errno 8] nodename nor servname provided, or not known",
            "\nDuring handling of the above exception, another exception occurred:\n",
            "\u001b[0;31mURLError\u001b[0m                                  Traceback (most recent call last)",
            "Cell \u001b[0;32mIn[172], line 6\u001b[0m\n\u001b[1;32m      4\u001b[0m \u001b[38;5;28;01mfor\u001b[39;00m i \u001b[38;5;129;01min\u001b[39;00m \u001b[38;5;28mrange\u001b[39m(\u001b[38;5;241m0\u001b[39m, \u001b[38;5;241m20\u001b[39m):\n\u001b[1;32m      5\u001b[0m   url \u001b[38;5;241m=\u001b[39m phishurl[\u001b[38;5;124m'\u001b[39m\u001b[38;5;124murl\u001b[39m\u001b[38;5;124m'\u001b[39m][i]\n\u001b[0;32m----> 6\u001b[0m   phish_features\u001b[38;5;241m.\u001b[39mappend(featureExtraction(url,label))\n",
            "Cell \u001b[0;32mIn[162], line 24\u001b[0m, in \u001b[0;36mfeatureExtraction\u001b[0;34m(url, label)\u001b[0m\n\u001b[1;32m     21\u001b[0m   dns \u001b[38;5;241m=\u001b[39m \u001b[38;5;241m1\u001b[39m\n\u001b[1;32m     23\u001b[0m features\u001b[38;5;241m.\u001b[39mappend(dns)\n\u001b[0;32m---> 24\u001b[0m features\u001b[38;5;241m.\u001b[39mappend(web_traffic(url))\n\u001b[1;32m     25\u001b[0m features\u001b[38;5;241m.\u001b[39mappend(\u001b[38;5;241m1\u001b[39m \u001b[38;5;28;01mif\u001b[39;00m dns \u001b[38;5;241m==\u001b[39m \u001b[38;5;241m1\u001b[39m \u001b[38;5;28;01melse\u001b[39;00m domainAge(domain_name))\n\u001b[1;32m     26\u001b[0m features\u001b[38;5;241m.\u001b[39mappend(\u001b[38;5;241m1\u001b[39m \u001b[38;5;28;01mif\u001b[39;00m dns \u001b[38;5;241m==\u001b[39m \u001b[38;5;241m1\u001b[39m \u001b[38;5;28;01melse\u001b[39;00m domainEnd(domain_name))\n",
            "Cell \u001b[0;32mIn[154], line 6\u001b[0m, in \u001b[0;36mweb_traffic\u001b[0;34m(url)\u001b[0m\n\u001b[1;32m      3\u001b[0m \u001b[38;5;28;01mtry\u001b[39;00m:\n\u001b[1;32m      4\u001b[0m   \u001b[38;5;66;03m#Filling the whitespaces in the URL if any\u001b[39;00m\n\u001b[1;32m      5\u001b[0m   url \u001b[38;5;241m=\u001b[39m urllib\u001b[38;5;241m.\u001b[39mparse\u001b[38;5;241m.\u001b[39mquote(url)\n\u001b[0;32m----> 6\u001b[0m   rank \u001b[38;5;241m=\u001b[39m BeautifulSoup(urllib\u001b[38;5;241m.\u001b[39mrequest\u001b[38;5;241m.\u001b[39murlopen(\u001b[38;5;124m\"\u001b[39m\u001b[38;5;124mhttp://data.alexa.com/data?cli=10&dat=s&url=\u001b[39m\u001b[38;5;124m\"\u001b[39m \u001b[38;5;241m+\u001b[39m url)\u001b[38;5;241m.\u001b[39mread(), \u001b[38;5;124m\"\u001b[39m\u001b[38;5;124mxml\u001b[39m\u001b[38;5;124m\"\u001b[39m)\u001b[38;5;241m.\u001b[39mfind(\n\u001b[1;32m      7\u001b[0m       \u001b[38;5;124m\"\u001b[39m\u001b[38;5;124mREACH\u001b[39m\u001b[38;5;124m\"\u001b[39m)[\u001b[38;5;124m'\u001b[39m\u001b[38;5;124mRANK\u001b[39m\u001b[38;5;124m'\u001b[39m]\n\u001b[1;32m      8\u001b[0m   rank \u001b[38;5;241m=\u001b[39m \u001b[38;5;28mint\u001b[39m(rank)\n\u001b[1;32m      9\u001b[0m \u001b[38;5;28;01mexcept\u001b[39;00m \u001b[38;5;167;01mTypeError\u001b[39;00m:\n",
            "File \u001b[0;32m/opt/anaconda3/lib/python3.12/urllib/request.py:215\u001b[0m, in \u001b[0;36murlopen\u001b[0;34m(url, data, timeout, cafile, capath, cadefault, context)\u001b[0m\n\u001b[1;32m    213\u001b[0m \u001b[38;5;28;01melse\u001b[39;00m:\n\u001b[1;32m    214\u001b[0m     opener \u001b[38;5;241m=\u001b[39m _opener\n\u001b[0;32m--> 215\u001b[0m \u001b[38;5;28;01mreturn\u001b[39;00m opener\u001b[38;5;241m.\u001b[39mopen(url, data, timeout)\n",
            "File \u001b[0;32m/opt/anaconda3/lib/python3.12/urllib/request.py:515\u001b[0m, in \u001b[0;36mOpenerDirector.open\u001b[0;34m(self, fullurl, data, timeout)\u001b[0m\n\u001b[1;32m    512\u001b[0m     req \u001b[38;5;241m=\u001b[39m meth(req)\n\u001b[1;32m    514\u001b[0m sys\u001b[38;5;241m.\u001b[39maudit(\u001b[38;5;124m'\u001b[39m\u001b[38;5;124murllib.Request\u001b[39m\u001b[38;5;124m'\u001b[39m, req\u001b[38;5;241m.\u001b[39mfull_url, req\u001b[38;5;241m.\u001b[39mdata, req\u001b[38;5;241m.\u001b[39mheaders, req\u001b[38;5;241m.\u001b[39mget_method())\n\u001b[0;32m--> 515\u001b[0m response \u001b[38;5;241m=\u001b[39m \u001b[38;5;28mself\u001b[39m\u001b[38;5;241m.\u001b[39m_open(req, data)\n\u001b[1;32m    517\u001b[0m \u001b[38;5;66;03m# post-process response\u001b[39;00m\n\u001b[1;32m    518\u001b[0m meth_name \u001b[38;5;241m=\u001b[39m protocol\u001b[38;5;241m+\u001b[39m\u001b[38;5;124m\"\u001b[39m\u001b[38;5;124m_response\u001b[39m\u001b[38;5;124m\"\u001b[39m\n",
            "File \u001b[0;32m/opt/anaconda3/lib/python3.12/urllib/request.py:532\u001b[0m, in \u001b[0;36mOpenerDirector._open\u001b[0;34m(self, req, data)\u001b[0m\n\u001b[1;32m    529\u001b[0m     \u001b[38;5;28;01mreturn\u001b[39;00m result\n\u001b[1;32m    531\u001b[0m protocol \u001b[38;5;241m=\u001b[39m req\u001b[38;5;241m.\u001b[39mtype\n\u001b[0;32m--> 532\u001b[0m result \u001b[38;5;241m=\u001b[39m \u001b[38;5;28mself\u001b[39m\u001b[38;5;241m.\u001b[39m_call_chain(\u001b[38;5;28mself\u001b[39m\u001b[38;5;241m.\u001b[39mhandle_open, protocol, protocol \u001b[38;5;241m+\u001b[39m\n\u001b[1;32m    533\u001b[0m                           \u001b[38;5;124m'\u001b[39m\u001b[38;5;124m_open\u001b[39m\u001b[38;5;124m'\u001b[39m, req)\n\u001b[1;32m    534\u001b[0m \u001b[38;5;28;01mif\u001b[39;00m result:\n\u001b[1;32m    535\u001b[0m     \u001b[38;5;28;01mreturn\u001b[39;00m result\n",
            "File \u001b[0;32m/opt/anaconda3/lib/python3.12/urllib/request.py:492\u001b[0m, in \u001b[0;36mOpenerDirector._call_chain\u001b[0;34m(self, chain, kind, meth_name, *args)\u001b[0m\n\u001b[1;32m    490\u001b[0m \u001b[38;5;28;01mfor\u001b[39;00m handler \u001b[38;5;129;01min\u001b[39;00m handlers:\n\u001b[1;32m    491\u001b[0m     func \u001b[38;5;241m=\u001b[39m \u001b[38;5;28mgetattr\u001b[39m(handler, meth_name)\n\u001b[0;32m--> 492\u001b[0m     result \u001b[38;5;241m=\u001b[39m func(\u001b[38;5;241m*\u001b[39margs)\n\u001b[1;32m    493\u001b[0m     \u001b[38;5;28;01mif\u001b[39;00m result \u001b[38;5;129;01mis\u001b[39;00m \u001b[38;5;129;01mnot\u001b[39;00m \u001b[38;5;28;01mNone\u001b[39;00m:\n\u001b[1;32m    494\u001b[0m         \u001b[38;5;28;01mreturn\u001b[39;00m result\n",
            "File \u001b[0;32m/opt/anaconda3/lib/python3.12/urllib/request.py:1373\u001b[0m, in \u001b[0;36mHTTPHandler.http_open\u001b[0;34m(self, req)\u001b[0m\n\u001b[1;32m   1372\u001b[0m \u001b[38;5;28;01mdef\u001b[39;00m \u001b[38;5;21mhttp_open\u001b[39m(\u001b[38;5;28mself\u001b[39m, req):\n\u001b[0;32m-> 1373\u001b[0m     \u001b[38;5;28;01mreturn\u001b[39;00m \u001b[38;5;28mself\u001b[39m\u001b[38;5;241m.\u001b[39mdo_open(http\u001b[38;5;241m.\u001b[39mclient\u001b[38;5;241m.\u001b[39mHTTPConnection, req)\n",
            "File \u001b[0;32m/opt/anaconda3/lib/python3.12/urllib/request.py:1347\u001b[0m, in \u001b[0;36mAbstractHTTPHandler.do_open\u001b[0;34m(self, http_class, req, **http_conn_args)\u001b[0m\n\u001b[1;32m   1344\u001b[0m         h\u001b[38;5;241m.\u001b[39mrequest(req\u001b[38;5;241m.\u001b[39mget_method(), req\u001b[38;5;241m.\u001b[39mselector, req\u001b[38;5;241m.\u001b[39mdata, headers,\n\u001b[1;32m   1345\u001b[0m                   encode_chunked\u001b[38;5;241m=\u001b[39mreq\u001b[38;5;241m.\u001b[39mhas_header(\u001b[38;5;124m'\u001b[39m\u001b[38;5;124mTransfer-encoding\u001b[39m\u001b[38;5;124m'\u001b[39m))\n\u001b[1;32m   1346\u001b[0m     \u001b[38;5;28;01mexcept\u001b[39;00m \u001b[38;5;167;01mOSError\u001b[39;00m \u001b[38;5;28;01mas\u001b[39;00m err: \u001b[38;5;66;03m# timeout error\u001b[39;00m\n\u001b[0;32m-> 1347\u001b[0m         \u001b[38;5;28;01mraise\u001b[39;00m URLError(err)\n\u001b[1;32m   1348\u001b[0m     r \u001b[38;5;241m=\u001b[39m h\u001b[38;5;241m.\u001b[39mgetresponse()\n\u001b[1;32m   1349\u001b[0m \u001b[38;5;28;01mexcept\u001b[39;00m:\n",
            "\u001b[0;31mURLError\u001b[0m: <urlopen error [Errno 8] nodename nor servname provided, or not known>"
          ]
        }
      ],
      "source": [
        "#Extracting the feautres & storing them in a list\n",
        "phish_features = []\n",
        "label = 1\n",
        "for i in range(0, 20):\n",
        "  url = phishurl['url'][i]\n",
        "  phish_features.append(featureExtraction(url,label))"
      ]
    },
    {
      "cell_type": "code",
      "execution_count": 173,
      "metadata": {
        "colab": {
          "base_uri": "https://localhost:8080/",
          "height": 237
        },
        "colab_type": "code",
        "id": "1brvc6kmoeGk",
        "outputId": "58a2e2cd-886f-414a-e2c6-2e5b7894efdd"
      },
      "outputs": [
        {
          "data": {
            "application/vnd.microsoft.datawrangler.viewer.v0+json": {
              "columns": [
                {
                  "name": "index",
                  "rawType": "int64",
                  "type": "integer"
                },
                {
                  "name": "Domain",
                  "rawType": "object",
                  "type": "string"
                },
                {
                  "name": "Have_IP",
                  "rawType": "object",
                  "type": "string"
                },
                {
                  "name": "Have_At",
                  "rawType": "object",
                  "type": "string"
                },
                {
                  "name": "URL_Length",
                  "rawType": "object",
                  "type": "string"
                },
                {
                  "name": "URL_Depth",
                  "rawType": "object",
                  "type": "string"
                },
                {
                  "name": "Redirection",
                  "rawType": "object",
                  "type": "string"
                },
                {
                  "name": "https_Domain",
                  "rawType": "object",
                  "type": "string"
                },
                {
                  "name": "TinyURL",
                  "rawType": "object",
                  "type": "string"
                },
                {
                  "name": "Prefix/Suffix",
                  "rawType": "object",
                  "type": "string"
                },
                {
                  "name": "DNS_Record",
                  "rawType": "object",
                  "type": "string"
                },
                {
                  "name": "Web_Traffic",
                  "rawType": "object",
                  "type": "string"
                },
                {
                  "name": "Domain_Age",
                  "rawType": "object",
                  "type": "string"
                },
                {
                  "name": "Domain_End",
                  "rawType": "object",
                  "type": "string"
                },
                {
                  "name": "iFrame",
                  "rawType": "object",
                  "type": "string"
                },
                {
                  "name": "Mouse_Over",
                  "rawType": "object",
                  "type": "string"
                },
                {
                  "name": "Right_Click",
                  "rawType": "object",
                  "type": "string"
                },
                {
                  "name": "Web_Forwards",
                  "rawType": "object",
                  "type": "string"
                },
                {
                  "name": "Label",
                  "rawType": "object",
                  "type": "string"
                }
              ],
              "ref": "f3f2af06-3f85-4bdb-94d8-e11647b46645",
              "rows": [],
              "shape": {
                "columns": 18,
                "rows": 0
              }
            },
            "text/html": [
              "<div>\n",
              "<style scoped>\n",
              "    .dataframe tbody tr th:only-of-type {\n",
              "        vertical-align: middle;\n",
              "    }\n",
              "\n",
              "    .dataframe tbody tr th {\n",
              "        vertical-align: top;\n",
              "    }\n",
              "\n",
              "    .dataframe thead th {\n",
              "        text-align: right;\n",
              "    }\n",
              "</style>\n",
              "<table border=\"1\" class=\"dataframe\">\n",
              "  <thead>\n",
              "    <tr style=\"text-align: right;\">\n",
              "      <th></th>\n",
              "      <th>Domain</th>\n",
              "      <th>Have_IP</th>\n",
              "      <th>Have_At</th>\n",
              "      <th>URL_Length</th>\n",
              "      <th>URL_Depth</th>\n",
              "      <th>Redirection</th>\n",
              "      <th>https_Domain</th>\n",
              "      <th>TinyURL</th>\n",
              "      <th>Prefix/Suffix</th>\n",
              "      <th>DNS_Record</th>\n",
              "      <th>Web_Traffic</th>\n",
              "      <th>Domain_Age</th>\n",
              "      <th>Domain_End</th>\n",
              "      <th>iFrame</th>\n",
              "      <th>Mouse_Over</th>\n",
              "      <th>Right_Click</th>\n",
              "      <th>Web_Forwards</th>\n",
              "      <th>Label</th>\n",
              "    </tr>\n",
              "  </thead>\n",
              "  <tbody>\n",
              "  </tbody>\n",
              "</table>\n",
              "</div>"
            ],
            "text/plain": [
              "Empty DataFrame\n",
              "Columns: [Domain, Have_IP, Have_At, URL_Length, URL_Depth, Redirection, https_Domain, TinyURL, Prefix/Suffix, DNS_Record, Web_Traffic, Domain_Age, Domain_End, iFrame, Mouse_Over, Right_Click, Web_Forwards, Label]\n",
              "Index: []"
            ]
          },
          "execution_count": 173,
          "metadata": {},
          "output_type": "execute_result"
        }
      ],
      "source": [
        "#converting the list to dataframe\n",
        "feature_names = ['Domain', 'Have_IP', 'Have_At', 'URL_Length', 'URL_Depth','Redirection', \n",
        "                      'https_Domain', 'TinyURL', 'Prefix/Suffix', 'DNS_Record', 'Web_Traffic', \n",
        "                      'Domain_Age', 'Domain_End', 'iFrame', 'Mouse_Over','Right_Click', 'Web_Forwards', 'Label']\n",
        "\n",
        "phishing = pd.DataFrame(phish_features, columns= feature_names)\n",
        "phishing.head()"
      ]
    },
    {
      "cell_type": "code",
      "execution_count": null,
      "metadata": {
        "colab": {},
        "colab_type": "code",
        "id": "UhBbG2O7E30d"
      },
      "outputs": [],
      "source": [
        "# Storing the extracted legitimate URLs fatures to csv file\n",
        "phishing.to_csv('DataFiles/4.phishing.csv', index= False)"
      ]
    },
    {
      "cell_type": "markdown",
      "metadata": {
        "colab_type": "text",
        "id": "DB43ozsPq-6c"
      },
      "source": [
        "## **5. Final Dataset**\n",
        "\n",
        "In the above section we formed two dataframes of legitimate & phishing URL features. Now, we will combine them to a single dataframe and export the data to csv file for the Machine Learning training done in other notebook. "
      ]
    },
    {
      "cell_type": "code",
      "execution_count": null,
      "metadata": {
        "colab": {
          "base_uri": "https://localhost:8080/",
          "height": 220
        },
        "colab_type": "code",
        "id": "ktJNvDY5sUsX",
        "outputId": "b64aa1a8-59a1-44a9-92d4-fc9cd811521b"
      },
      "outputs": [
        {
          "data": {
            "application/vnd.microsoft.datawrangler.viewer.v0+json": {
              "columns": [
                {
                  "name": "index",
                  "rawType": "int64",
                  "type": "integer"
                },
                {
                  "name": "Domain",
                  "rawType": "object",
                  "type": "string"
                },
                {
                  "name": "Have_IP",
                  "rawType": "object",
                  "type": "string"
                },
                {
                  "name": "Have_At",
                  "rawType": "object",
                  "type": "string"
                },
                {
                  "name": "URL_Length",
                  "rawType": "object",
                  "type": "string"
                },
                {
                  "name": "URL_Depth",
                  "rawType": "object",
                  "type": "string"
                },
                {
                  "name": "Redirection",
                  "rawType": "object",
                  "type": "string"
                },
                {
                  "name": "https_Domain",
                  "rawType": "object",
                  "type": "string"
                },
                {
                  "name": "TinyURL",
                  "rawType": "object",
                  "type": "string"
                },
                {
                  "name": "Prefix/Suffix",
                  "rawType": "object",
                  "type": "string"
                },
                {
                  "name": "DNS_Record",
                  "rawType": "object",
                  "type": "string"
                },
                {
                  "name": "Web_Traffic",
                  "rawType": "object",
                  "type": "string"
                },
                {
                  "name": "Domain_Age",
                  "rawType": "object",
                  "type": "string"
                },
                {
                  "name": "Domain_End",
                  "rawType": "object",
                  "type": "string"
                },
                {
                  "name": "iFrame",
                  "rawType": "object",
                  "type": "string"
                },
                {
                  "name": "Mouse_Over",
                  "rawType": "object",
                  "type": "string"
                },
                {
                  "name": "Right_Click",
                  "rawType": "object",
                  "type": "string"
                },
                {
                  "name": "Web_Forwards",
                  "rawType": "object",
                  "type": "string"
                },
                {
                  "name": "Label",
                  "rawType": "object",
                  "type": "string"
                }
              ],
              "ref": "8eff6577-795b-48a6-95e8-86bafb27a21a",
              "rows": [],
              "shape": {
                "columns": 18,
                "rows": 0
              }
            },
            "text/html": [
              "<div>\n",
              "<style scoped>\n",
              "    .dataframe tbody tr th:only-of-type {\n",
              "        vertical-align: middle;\n",
              "    }\n",
              "\n",
              "    .dataframe tbody tr th {\n",
              "        vertical-align: top;\n",
              "    }\n",
              "\n",
              "    .dataframe thead th {\n",
              "        text-align: right;\n",
              "    }\n",
              "</style>\n",
              "<table border=\"1\" class=\"dataframe\">\n",
              "  <thead>\n",
              "    <tr style=\"text-align: right;\">\n",
              "      <th></th>\n",
              "      <th>Domain</th>\n",
              "      <th>Have_IP</th>\n",
              "      <th>Have_At</th>\n",
              "      <th>URL_Length</th>\n",
              "      <th>URL_Depth</th>\n",
              "      <th>Redirection</th>\n",
              "      <th>https_Domain</th>\n",
              "      <th>TinyURL</th>\n",
              "      <th>Prefix/Suffix</th>\n",
              "      <th>DNS_Record</th>\n",
              "      <th>Web_Traffic</th>\n",
              "      <th>Domain_Age</th>\n",
              "      <th>Domain_End</th>\n",
              "      <th>iFrame</th>\n",
              "      <th>Mouse_Over</th>\n",
              "      <th>Right_Click</th>\n",
              "      <th>Web_Forwards</th>\n",
              "      <th>Label</th>\n",
              "    </tr>\n",
              "  </thead>\n",
              "  <tbody>\n",
              "  </tbody>\n",
              "</table>\n",
              "</div>"
            ],
            "text/plain": [
              "Empty DataFrame\n",
              "Columns: [Domain, Have_IP, Have_At, URL_Length, URL_Depth, Redirection, https_Domain, TinyURL, Prefix/Suffix, DNS_Record, Web_Traffic, Domain_Age, Domain_End, iFrame, Mouse_Over, Right_Click, Web_Forwards, Label]\n",
              "Index: []"
            ]
          },
          "execution_count": 122,
          "metadata": {},
          "output_type": "execute_result"
        }
      ],
      "source": [
        "#Concatenating the dataframes into one \n",
        "urldata = pd.concat([legitimate, phishing]).reset_index(drop=True)\n",
        "urldata.head()"
      ]
    },
    {
      "cell_type": "code",
      "execution_count": null,
      "metadata": {
        "colab": {
          "base_uri": "https://localhost:8080/",
          "height": 271
        },
        "colab_type": "code",
        "id": "u1Viw3jKh3_o",
        "outputId": "eb924dbb-e26a-4711-a46a-3e39b4a37718"
      },
      "outputs": [
        {
          "data": {
            "application/vnd.microsoft.datawrangler.viewer.v0+json": {
              "columns": [
                {
                  "name": "index",
                  "rawType": "int64",
                  "type": "integer"
                },
                {
                  "name": "Domain",
                  "rawType": "object",
                  "type": "string"
                },
                {
                  "name": "Have_IP",
                  "rawType": "object",
                  "type": "string"
                },
                {
                  "name": "Have_At",
                  "rawType": "object",
                  "type": "string"
                },
                {
                  "name": "URL_Length",
                  "rawType": "object",
                  "type": "string"
                },
                {
                  "name": "URL_Depth",
                  "rawType": "object",
                  "type": "string"
                },
                {
                  "name": "Redirection",
                  "rawType": "object",
                  "type": "string"
                },
                {
                  "name": "https_Domain",
                  "rawType": "object",
                  "type": "string"
                },
                {
                  "name": "TinyURL",
                  "rawType": "object",
                  "type": "string"
                },
                {
                  "name": "Prefix/Suffix",
                  "rawType": "object",
                  "type": "string"
                },
                {
                  "name": "DNS_Record",
                  "rawType": "object",
                  "type": "string"
                },
                {
                  "name": "Web_Traffic",
                  "rawType": "object",
                  "type": "string"
                },
                {
                  "name": "Domain_Age",
                  "rawType": "object",
                  "type": "string"
                },
                {
                  "name": "Domain_End",
                  "rawType": "object",
                  "type": "string"
                },
                {
                  "name": "iFrame",
                  "rawType": "object",
                  "type": "string"
                },
                {
                  "name": "Mouse_Over",
                  "rawType": "object",
                  "type": "string"
                },
                {
                  "name": "Right_Click",
                  "rawType": "object",
                  "type": "string"
                },
                {
                  "name": "Web_Forwards",
                  "rawType": "object",
                  "type": "string"
                },
                {
                  "name": "Label",
                  "rawType": "object",
                  "type": "string"
                }
              ],
              "ref": "191c3797-b2ac-4576-86ae-4080f97b9a75",
              "rows": [],
              "shape": {
                "columns": 18,
                "rows": 0
              }
            },
            "text/html": [
              "<div>\n",
              "<style scoped>\n",
              "    .dataframe tbody tr th:only-of-type {\n",
              "        vertical-align: middle;\n",
              "    }\n",
              "\n",
              "    .dataframe tbody tr th {\n",
              "        vertical-align: top;\n",
              "    }\n",
              "\n",
              "    .dataframe thead th {\n",
              "        text-align: right;\n",
              "    }\n",
              "</style>\n",
              "<table border=\"1\" class=\"dataframe\">\n",
              "  <thead>\n",
              "    <tr style=\"text-align: right;\">\n",
              "      <th></th>\n",
              "      <th>Domain</th>\n",
              "      <th>Have_IP</th>\n",
              "      <th>Have_At</th>\n",
              "      <th>URL_Length</th>\n",
              "      <th>URL_Depth</th>\n",
              "      <th>Redirection</th>\n",
              "      <th>https_Domain</th>\n",
              "      <th>TinyURL</th>\n",
              "      <th>Prefix/Suffix</th>\n",
              "      <th>DNS_Record</th>\n",
              "      <th>Web_Traffic</th>\n",
              "      <th>Domain_Age</th>\n",
              "      <th>Domain_End</th>\n",
              "      <th>iFrame</th>\n",
              "      <th>Mouse_Over</th>\n",
              "      <th>Right_Click</th>\n",
              "      <th>Web_Forwards</th>\n",
              "      <th>Label</th>\n",
              "    </tr>\n",
              "  </thead>\n",
              "  <tbody>\n",
              "  </tbody>\n",
              "</table>\n",
              "</div>"
            ],
            "text/plain": [
              "Empty DataFrame\n",
              "Columns: [Domain, Have_IP, Have_At, URL_Length, URL_Depth, Redirection, https_Domain, TinyURL, Prefix/Suffix, DNS_Record, Web_Traffic, Domain_Age, Domain_End, iFrame, Mouse_Over, Right_Click, Web_Forwards, Label]\n",
              "Index: []"
            ]
          },
          "execution_count": 123,
          "metadata": {},
          "output_type": "execute_result"
        }
      ],
      "source": [
        "urldata.tail()"
      ]
    },
    {
      "cell_type": "code",
      "execution_count": null,
      "metadata": {
        "colab": {
          "base_uri": "https://localhost:8080/",
          "height": 35
        },
        "colab_type": "code",
        "id": "1NNxgbVCr7vt",
        "outputId": "3064082c-4508-4579-8128-bff9842a04b7"
      },
      "outputs": [
        {
          "data": {
            "text/plain": [
              "(0, 18)"
            ]
          },
          "execution_count": 124,
          "metadata": {},
          "output_type": "execute_result"
        }
      ],
      "source": [
        "urldata.shape"
      ]
    },
    {
      "cell_type": "code",
      "execution_count": null,
      "metadata": {
        "colab": {},
        "colab_type": "code",
        "id": "596496VUrhRI"
      },
      "outputs": [],
      "source": [
        "# Storing the data in CSV file\n",
        "urldata.to_csv('DataFiles/5.urldata.csv', index=False)"
      ]
    },
    {
      "cell_type": "markdown",
      "metadata": {
        "colab_type": "text",
        "id": "srm3VLlHrmFN"
      },
      "source": [
        "## **6. Conclusion**\n",
        "\n",
        "With this the objective of this notebook is achieved. We finally extracted 18 features for 10,000 URL which has 5000 phishing & 5000 legitimate URLs."
      ]
    },
    {
      "cell_type": "markdown",
      "metadata": {
        "colab_type": "text",
        "id": "ybur8dewifEw"
      },
      "source": [
        "## **7. References**\n",
        "\n",
        "* https://archive.ics.uci.edu/ml/datasets/Phishing+Websites "
      ]
    }
  ],
  "metadata": {
    "accelerator": "GPU",
    "colab": {
      "collapsed_sections": [],
      "name": "URL Feature Extraction.ipynb",
      "provenance": [],
      "toc_visible": true
    },
    "kernelspec": {
      "display_name": "base",
      "language": "python",
      "name": "python3"
    },
    "language_info": {
      "codemirror_mode": {
        "name": "ipython",
        "version": 3
      },
      "file_extension": ".py",
      "mimetype": "text/x-python",
      "name": "python",
      "nbconvert_exporter": "python",
      "pygments_lexer": "ipython3",
      "version": "3.12.2"
    }
  },
  "nbformat": 4,
  "nbformat_minor": 0
}
